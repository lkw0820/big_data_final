{
  "nbformat": 4,
  "nbformat_minor": 0,
  "metadata": {
    "colab": {
      "provenance": [],
      "include_colab_link": true
    },
    "kernelspec": {
      "name": "python3",
      "display_name": "Python 3"
    },
    "language_info": {
      "name": "python"
    }
  },
  "cells": [
    {
      "cell_type": "markdown",
      "metadata": {
        "id": "view-in-github",
        "colab_type": "text"
      },
      "source": [
        "<a href=\"https://colab.research.google.com/github/lkw0820/big_data_final/blob/master/final_project.ipynb\" target=\"_parent\"><img src=\"https://colab.research.google.com/assets/colab-badge.svg\" alt=\"Open In Colab\"/></a>"
      ]
    },
    {
      "cell_type": "markdown",
      "source": [
        "날짜별 온도별로 모기 밀집도 보여주기\n",
        "애니매이션 넣어서"
      ],
      "metadata": {
        "id": "n_-2KFsK8Kt_"
      }
    },
    {
      "cell_type": "code",
      "source": [
        "!sudo apt-get install -y fonts-nanum\n",
        "!sudo fc-cache -fv\n",
        "!rm ~/.cache/matplotlib -rf\n"
      ],
      "metadata": {
        "colab": {
          "base_uri": "https://localhost:8080/"
        },
        "id": "8ETxHIHCYSoA",
        "outputId": "d253c887-1a8f-4a9f-d062-0907bae26b21"
      },
      "execution_count": null,
      "outputs": [
        {
          "output_type": "stream",
          "name": "stdout",
          "text": [
            "Reading package lists... Done\n",
            "Building dependency tree       \n",
            "Reading state information... Done\n",
            "The following package was automatically installed and is no longer required:\n",
            "  libnvidia-common-460\n",
            "Use 'sudo apt autoremove' to remove it.\n",
            "The following NEW packages will be installed:\n",
            "  fonts-nanum\n",
            "0 upgraded, 1 newly installed, 0 to remove and 20 not upgraded.\n",
            "Need to get 9,604 kB of archives.\n",
            "After this operation, 29.5 MB of additional disk space will be used.\n",
            "Get:1 http://archive.ubuntu.com/ubuntu bionic/universe amd64 fonts-nanum all 20170925-1 [9,604 kB]\n",
            "Fetched 9,604 kB in 1s (11.3 MB/s)\n",
            "debconf: unable to initialize frontend: Dialog\n",
            "debconf: (No usable dialog-like program is installed, so the dialog based frontend cannot be used. at /usr/share/perl5/Debconf/FrontEnd/Dialog.pm line 76, <> line 1.)\n",
            "debconf: falling back to frontend: Readline\n",
            "debconf: unable to initialize frontend: Readline\n",
            "debconf: (This frontend requires a controlling tty.)\n",
            "debconf: falling back to frontend: Teletype\n",
            "dpkg-preconfigure: unable to re-open stdin: \n",
            "Selecting previously unselected package fonts-nanum.\n",
            "(Reading database ... 124013 files and directories currently installed.)\n",
            "Preparing to unpack .../fonts-nanum_20170925-1_all.deb ...\n",
            "Unpacking fonts-nanum (20170925-1) ...\n",
            "Setting up fonts-nanum (20170925-1) ...\n",
            "Processing triggers for fontconfig (2.12.6-0ubuntu2) ...\n",
            "/usr/share/fonts: caching, new cache contents: 0 fonts, 1 dirs\n",
            "/usr/share/fonts/truetype: caching, new cache contents: 0 fonts, 3 dirs\n",
            "/usr/share/fonts/truetype/humor-sans: caching, new cache contents: 1 fonts, 0 dirs\n",
            "/usr/share/fonts/truetype/liberation: caching, new cache contents: 16 fonts, 0 dirs\n",
            "/usr/share/fonts/truetype/nanum: caching, new cache contents: 10 fonts, 0 dirs\n",
            "/usr/local/share/fonts: caching, new cache contents: 0 fonts, 0 dirs\n",
            "/root/.local/share/fonts: skipping, no such directory\n",
            "/root/.fonts: skipping, no such directory\n",
            "/var/cache/fontconfig: cleaning cache directory\n",
            "/root/.cache/fontconfig: not cleaning non-existent cache directory\n",
            "/root/.fontconfig: not cleaning non-existent cache directory\n",
            "fc-cache: succeeded\n"
          ]
        }
      ]
    },
    {
      "cell_type": "code",
      "execution_count": null,
      "metadata": {
        "colab": {
          "base_uri": "https://localhost:8080/",
          "height": 533
        },
        "id": "7YsQX9MW3F30",
        "outputId": "a9bcbab6-6d04-4250-e8e0-49440b3071af"
      },
      "outputs": [
        {
          "name": "stdout",
          "output_type": "stream",
          "text": [
            "연중주수를 입력해주세요(14주~44주): 33주\n"
          ]
        },
        {
          "output_type": "execute_result",
          "data": {
            "text/plain": [
              "Text(0, 0.5, '밀집도')"
            ]
          },
          "metadata": {},
          "execution_count": 1
        },
        {
          "output_type": "display_data",
          "data": {
            "text/plain": [
              "<Figure size 1440x576 with 1 Axes>"
            ],
            "image/png": "[encoded data removed]"
          },
          "metadata": {
            "needs_background": "light"
          }
        }
      ],
      "source": [
        "\n",
        "import pandas as pd\n",
        "import matplotlib.pyplot as plt\n",
        "import seaborn as sns\n",
        "import matplotlib.pyplot as plt\n",
        "\n",
        "plt.rc('font', family='NanumBarunGothic') \n",
        "\n",
        "df = pd.read_csv('/content/인천광역시_보건환경연구원-모기밀도조사_20211231.csv', encoding = 'CP949', header=0)\n",
        "Text=input('연중주수를 입력해주세요(14주~44주): ')\n",
        "#정렬\n",
        "\n",
        "dfd=df.groupby(['연중주수'])\n",
        "df4=dfd.get_group(Text)\n",
        "\n",
        "name=list(df4.columns.values)[4:] #모기 종류\n",
        "\n",
        "fig, ax = plt.subplots(figsize=(20,8))\n",
        "for i in name:\n",
        "  sns.scatterplot(data=df4, x='장소',y=i, s=200)\n",
        "\n",
        "ax.set_ylabel('밀집도')"
      ]
    },
    {
      "cell_type": "markdown",
      "source": [
        "데이터 가공화 + 모기 종류 별 밀집도 애니메이션 그래프"
      ],
      "metadata": {
        "id": "QrA1E3B8nxme"
      }
    },
    {
      "cell_type": "code",
      "source": [
        "\n",
        "import pandas as pd\n",
        "import matplotlib.pyplot as plt\n",
        "import seaborn as sns\n",
        "import matplotlib.pyplot as plt\n",
        "import plotly.express as px\n",
        "import numpy as np\n",
        "plt.rc('font', family='NanumBarunGothic') \n",
        "\n",
        "df = pd.read_csv('/content/인천광역시_보건환경연구원-모기밀도조사_20211231.csv', encoding = 'CP949', header=0)\n",
        "df1 = pd.read_csv('/content/인천ta_20221201172941.csv', encoding = 'CP949', header=0)\n",
        "df2 = pd.read_csv('/content/강화ta_20221204010051.csv', encoding = 'CP949', header=0)\n",
        "\n",
        "print('모기 종류: 얼룩날개모기류, 이나토미집모기, 반점날개집모기, 동양집모기, 빨간집모기, 작은빨간집모기')\n",
        "print('           줄다리집모기, 노랑늪모기,반점날개늪모기, 흰줄숲모기, 금빛숲모기, 한국숲모기, 토고숲모기')\n",
        "print('           등줄숲모기, 큰검정들모기, 금빛어깨숲모기기')\n",
        "Text1 = input(\"모기 종류를 입력하세요: \")\n",
        "Text2 = int(input(\"밀집도를 예측하고 싶은 온도를 입력하세요: \"))\n",
        "\n",
        "df['온도']=0\n",
        "for i in np.arange(0,31): #30은 4월부터 10월까지 30주\n",
        "  df['온도'].iloc[12*i:(12*i)+5] = df1['평균기온(℃)'].iloc[7*i:7*(i+1)].mean() #인천지역에 평균 온도\n",
        "  df['온도'].iloc[5+(12*i):12+(12*i)] = df2['평균기온(℃)'].iloc[7*i:7*(i+1)].mean()#강화지역에 평균 온도\n",
        "\n",
        "fig = px.scatter(df, x='장소', y='온도', animation_frame='연중주수',range_y=[df['온도'].min(),df['온도'].max()], size=Text1)\n",
        "\n",
        "fig.show()"
      ],
      "metadata": {
        "id": "gtXdnKXHjiLX",
        "colab": {
          "base_uri": "https://localhost:8080/",
          "height": 724
        },
        "outputId": "dbd3a854-4296-4981-df25-70f30fd8e30a"
      },
      "execution_count": null,
      "outputs": [
        {
          "name": "stdout",
          "output_type": "stream",
          "text": [
            "모기 종류: 얼룩날개모기류, 이나토미집모기, 반점날개집모기, 동양집모기, 빨간집모기, 작은빨간집모기\n",
            "           줄다리집모기, 노랑늪모기,반점날개늪모기, 흰줄숲모기, 금빛숲모기, 한국숲모기, 토고숲모기\n",
            "           등줄숲모기, 큰검정들모기, 금빛어깨숲모기기\n",
            "모기 종류를 입력하세요: 빨간집모기\n",
            "밀집도를 예측하고 싶은 온도를 입력하세요: 26\n"
          ]
        },
        {
          "output_type": "stream",
          "name": "stderr",
          "text": [
            "/usr/local/lib/python3.8/dist-packages/pandas/core/indexing.py:1732: SettingWithCopyWarning: \n",
            "A value is trying to be set on a copy of a slice from a DataFrame\n",
            "\n",
            "See the caveats in the documentation: https://pandas.pydata.org/pandas-docs/stable/user_guide/indexing.html#returning-a-view-versus-a-copy\n",
            "  self._setitem_single_block(indexer, value, name)\n"
          ]
        },
        {
          "output_type": "display_data",
          "data": {
            "text/html": [
              "<html>\n",
              "<head><meta charset=\"utf-8\" /></head>\n",
              "<body>\n",
              "    <div>            <script src=\"https://cdnjs.cloudflare.com/ajax/libs/mathjax/2.7.5/MathJax.js?config=TeX-AMS-MML_SVG\"></script><script type=\"text/javascript\">if (window.MathJax) {MathJax.Hub.Config({SVG: {font: \"STIX-Web\"}});}</script>                <script type=\"text/javascript\">window.PlotlyConfig = {MathJaxConfig: 'local'};</script>\n",
              "        <script src=\"https://cdn.plot.ly/plotly-2.8.3.min.js\"></script>                <div id=\"24f19080-b30c-44df-8229-5af8c2f46a39\" class=\"plotly-graph-div\" style=\"height:525px; width:100%;\"></div>            <script type=\"text/javascript\">                                    window.PLOTLYENV=window.PLOTLYENV || {};                                    if (document.getElementById(\"24f19080-b30c-44df-8229-5af8c2f46a39\")) {                    Plotly.newPlot(                        \"24f19080-b30c-44df-8229-5af8c2f46a39\",                        [{\"hovertemplate\":\"\\uc5f0\\uc911\\uc8fc\\uc218=14\\uc8fc<br>\\uc7a5\\uc18c=%{x}<br>\\uc628\\ub3c4=%{y}<br>\\ube68\\uac04\\uc9d1\\ubaa8\\uae30=%{marker.size}<extra></extra>\",\"legendgroup\":\"\",\"marker\":{\"color\":\"#636efa\",\"size\":[16,7,2,11,15,0,1,2,2,2,1,0],\"sizemode\":\"area\",\"sizeref\":3.3175,\"symbol\":\"circle\"},\"mode\":\"markers\",\"name\":\"\",\"orientation\":\"v\",\"showlegend\":false,\"x\":[\"\\uacc4\\uc591\\uad6c \\uc120\\uc8fc\\uc9c0\\ub3d9\",\"\\ubd80\\ud3c9\\uad6c \\ubd80\\ud3c9\\ub3d9\",\" \\uc11c\\uad6c \\uc5f0\\ud76c\\ub3d9\",\" \\uc11c\\uad6c \\ubc31\\uc11d\\ub3d9\",\"\\uc911\\uad6c \\uc6b4\\ub0a8\\ub3d9 (\\uc601\\uc885\\ub3c4)\",\"\\uac15\\ud654 \\uc1a1\\ud574\\uba74 (\\uc22d\\ub8b0\\ub9ac)\",\"\\uac15\\ud654 \\uc1a1\\ud574\\uba74 (\\uc194\\uc815\\ub9ac)\",\"\\uac15\\ud654 \\uc120\\uc6d0\\uba74 (\\uae08\\uc6d4\\ub9ac)\",\"\\uac15\\ud654 \\uc0bc\\uc0b0\\uba74 (\\uc11d\\ubaa8\\ub9ac)\",\"\\uac15\\ud654 \\uad50\\ub3d9\\uba74 (\\ub300\\ub8e1\\ub9ac)\",\"\\uac15\\ud654 \\uac15\\ud654\\uc74d (\\ub300\\uc0b0\\ub9ac)\",\"\\uac15\\ud654 \\uac15\\ud654\\uc74d (\\uc6d4\\uacf3\\ub9ac)\"],\"xaxis\":\"x\",\"y\":[13.599999999999998,13.599999999999998,13.599999999999998,13.599999999999998,13.599999999999998,12.771428571428572,12.771428571428572,12.771428571428572,12.771428571428572,12.771428571428572,12.771428571428572,12.771428571428572],\"yaxis\":\"y\",\"type\":\"scatter\"}],                        {\"template\":{\"data\":{\"bar\":[{\"error_x\":{\"color\":\"#2a3f5f\"},\"error_y\":{\"color\":\"#2a3f5f\"},\"marker\":{\"line\":{\"color\":\"#E5ECF6\",\"width\":0.5},\"pattern\":{\"fillmode\":\"overlay\",\"size\":10,\"solidity\":0.2}},\"type\":\"bar\"}],\"barpolar\":[{\"marker\":{\"line\":{\"color\":\"#E5ECF6\",\"width\":0.5},\"pattern\":{\"fillmode\":\"overlay\",\"size\":10,\"solidity\":0.2}},\"type\":\"barpolar\"}],\"carpet\":[{\"aaxis\":{\"endlinecolor\":\"#2a3f5f\",\"gridcolor\":\"white\",\"linecolor\":\"white\",\"minorgridcolor\":\"white\",\"startlinecolor\":\"#2a3f5f\"},\"baxis\":{\"endlinecolor\":\"#2a3f5f\",\"gridcolor\":\"white\",\"linecolor\":\"white\",\"minorgridcolor\":\"white\",\"startlinecolor\":\"#2a3f5f\"},\"type\":\"carpet\"}],\"choropleth\":[{\"colorbar\":{\"outlinewidth\":0,\"ticks\":\"\"},\"type\":\"choropleth\"}],\"contour\":[{\"colorbar\":{\"outlinewidth\":0,\"ticks\":\"\"},\"colorscale\":[[0.0,\"#0d0887\"],[0.1111111111111111,\"#46039f\"],[0.2222222222222222,\"#7201a8\"],[0.3333333333333333,\"#9c179e\"],[0.4444444444444444,\"#bd3786\"],[0.5555555555555556,\"#d8576b\"],[0.6666666666666666,\"#ed7953\"],[0.7777777777777778,\"#fb9f3a\"],[0.8888888888888888,\"#fdca26\"],[1.0,\"#f0f921\"]],\"type\":\"contour\"}],\"contourcarpet\":[{\"colorbar\":{\"outlinewidth\":0,\"ticks\":\"\"},\"type\":\"contourcarpet\"}],\"heatmap\":[{\"colorbar\":{\"outlinewidth\":0,\"ticks\":\"\"},\"colorscale\":[[0.0,\"#0d0887\"],[0.1111111111111111,\"#46039f\"],[0.2222222222222222,\"#7201a8\"],[0.3333333333333333,\"#9c179e\"],[0.4444444444444444,\"#bd3786\"],[0.5555555555555556,\"#d8576b\"],[0.6666666666666666,\"#ed7953\"],[0.7777777777777778,\"#fb9f3a\"],[0.8888888888888888,\"#fdca26\"],[1.0,\"#f0f921\"]],\"type\":\"heatmap\"}],\"heatmapgl\":[{\"colorbar\":{\"outlinewidth\":0,\"ticks\":\"\"},\"colorscale\":[[0.0,\"#0d0887\"],[0.1111111111111111,\"#46039f\"],[0.2222222222222222,\"#7201a8\"],[0.3333333333333333,\"#9c179e\"],[0.4444444444444444,\"#bd3786\"],[0.5555555555555556,\"#d8576b\"],[0.6666666666666666,\"#ed7953\"],[0.7777777777777778,\"#fb9f3a\"],[0.8888888888888888,\"#fdca26\"],[1.0,\"#f0f921\"]],\"type\":\"heatmapgl\"}],\"histogram\":[{\"marker\":{\"pattern\":{\"fillmode\":\"overlay\",\"size\":10,\"solidity\":0.2}},\"type\":\"histogram\"}],\"histogram2d\":[{\"colorbar\":{\"outlinewidth\":0,\"ticks\":\"\"},\"colorscale\":[[0.0,\"#0d0887\"],[0.1111111111111111,\"#46039f\"],[0.2222222222222222,\"#7201a8\"],[0.3333333333333333,\"#9c179e\"],[0.4444444444444444,\"#bd3786\"],[0.5555555555555556,\"#d8576b\"],[0.6666666666666666,\"#ed7953\"],[0.7777777777777778,\"#fb9f3a\"],[0.8888888888888888,\"#fdca26\"],[1.0,\"#f0f921\"]],\"type\":\"histogram2d\"}],\"histogram2dcontour\":[{\"colorbar\":{\"outlinewidth\":0,\"ticks\":\"\"},\"colorscale\":[[0.0,\"#0d0887\"],[0.1111111111111111,\"#46039f\"],[0.2222222222222222,\"#7201a8\"],[0.3333333333333333,\"#9c179e\"],[0.4444444444444444,\"#bd3786\"],[0.5555555555555556,\"#d8576b\"],[0.6666666666666666,\"#ed7953\"],[0.7777777777777778,\"#fb9f3a\"],[0.8888888888888888,\"#fdca26\"],[1.0,\"#f0f921\"]],\"type\":\"histogram2dcontour\"}],\"mesh3d\":[{\"colorbar\":{\"outlinewidth\":0,\"ticks\":\"\"},\"type\":\"mesh3d\"}],\"parcoords\":[{\"line\":{\"colorbar\":{\"outlinewidth\":0,\"ticks\":\"\"}},\"type\":\"parcoords\"}],\"pie\":[{\"automargin\":true,\"type\":\"pie\"}],\"scatter\":[{\"marker\":{\"colorbar\":{\"outlinewidth\":0,\"ticks\":\"\"}},\"type\":\"scatter\"}],\"scatter3d\":[{\"line\":{\"colorbar\":{\"outlinewidth\":0,\"ticks\":\"\"}},\"marker\":{\"colorbar\":{\"outlinewidth\":0,\"ticks\":\"\"}},\"type\":\"scatter3d\"}],\"scattercarpet\":[{\"marker\":{\"colorbar\":{\"outlinewidth\":0,\"ticks\":\"\"}},\"type\":\"scattercarpet\"}],\"scattergeo\":[{\"marker\":{\"colorbar\":{\"outlinewidth\":0,\"ticks\":\"\"}},\"type\":\"scattergeo\"}],\"scattergl\":[{\"marker\":{\"colorbar\":{\"outlinewidth\":0,\"ticks\":\"\"}},\"type\":\"scattergl\"}],\"scattermapbox\":[{\"marker\":{\"colorbar\":{\"outlinewidth\":0,\"ticks\":\"\"}},\"type\":\"scattermapbox\"}],\"scatterpolar\":[{\"marker\":{\"colorbar\":{\"outlinewidth\":0,\"ticks\":\"\"}},\"type\":\"scatterpolar\"}],\"scatterpolargl\":[{\"marker\":{\"colorbar\":{\"outlinewidth\":0,\"ticks\":\"\"}},\"type\":\"scatterpolargl\"}],\"scatterternary\":[{\"marker\":{\"colorbar\":{\"outlinewidth\":0,\"ticks\":\"\"}},\"type\":\"scatterternary\"}],\"surface\":[{\"colorbar\":{\"outlinewidth\":0,\"ticks\":\"\"},\"colorscale\":[[0.0,\"#0d0887\"],[0.1111111111111111,\"#46039f\"],[0.2222222222222222,\"#7201a8\"],[0.3333333333333333,\"#9c179e\"],[0.4444444444444444,\"#bd3786\"],[0.5555555555555556,\"#d8576b\"],[0.6666666666666666,\"#ed7953\"],[0.7777777777777778,\"#fb9f3a\"],[0.8888888888888888,\"#fdca26\"],[1.0,\"#f0f921\"]],\"type\":\"surface\"}],\"table\":[{\"cells\":{\"fill\":{\"color\":\"#EBF0F8\"},\"line\":{\"color\":\"white\"}},\"header\":{\"fill\":{\"color\":\"#C8D4E3\"},\"line\":{\"color\":\"white\"}},\"type\":\"table\"}]},\"layout\":{\"annotationdefaults\":{\"arrowcolor\":\"#2a3f5f\",\"arrowhead\":0,\"arrowwidth\":1},\"autotypenumbers\":\"strict\",\"coloraxis\":{\"colorbar\":{\"outlinewidth\":0,\"ticks\":\"\"}},\"colorscale\":{\"diverging\":[[0,\"#8e0152\"],[0.1,\"#c51b7d\"],[0.2,\"#de77ae\"],[0.3,\"#f1b6da\"],[0.4,\"#fde0ef\"],[0.5,\"#f7f7f7\"],[0.6,\"#e6f5d0\"],[0.7,\"#b8e186\"],[0.8,\"#7fbc41\"],[0.9,\"#4d9221\"],[1,\"#276419\"]],\"sequential\":[[0.0,\"#0d0887\"],[0.1111111111111111,\"#46039f\"],[0.2222222222222222,\"#7201a8\"],[0.3333333333333333,\"#9c179e\"],[0.4444444444444444,\"#bd3786\"],[0.5555555555555556,\"#d8576b\"],[0.6666666666666666,\"#ed7953\"],[0.7777777777777778,\"#fb9f3a\"],[0.8888888888888888,\"#fdca26\"],[1.0,\"#f0f921\"]],\"sequentialminus\":[[0.0,\"#0d0887\"],[0.1111111111111111,\"#46039f\"],[0.2222222222222222,\"#7201a8\"],[0.3333333333333333,\"#9c179e\"],[0.4444444444444444,\"#bd3786\"],[0.5555555555555556,\"#d8576b\"],[0.6666666666666666,\"#ed7953\"],[0.7777777777777778,\"#fb9f3a\"],[0.8888888888888888,\"#fdca26\"],[1.0,\"#f0f921\"]]},\"colorway\":[\"#636efa\",\"#EF553B\",\"#00cc96\",\"#ab63fa\",\"#FFA15A\",\"#19d3f3\",\"#FF6692\",\"#B6E880\",\"#FF97FF\",\"#FECB52\"],\"font\":{\"color\":\"#2a3f5f\"},\"geo\":{\"bgcolor\":\"white\",\"lakecolor\":\"white\",\"landcolor\":\"#E5ECF6\",\"showlakes\":true,\"showland\":true,\"subunitcolor\":\"white\"},\"hoverlabel\":{\"align\":\"left\"},\"hovermode\":\"closest\",\"mapbox\":{\"style\":\"light\"},\"paper_bgcolor\":\"white\",\"plot_bgcolor\":\"#E5ECF6\",\"polar\":{\"angularaxis\":{\"gridcolor\":\"white\",\"linecolor\":\"white\",\"ticks\":\"\"},\"bgcolor\":\"#E5ECF6\",\"radialaxis\":{\"gridcolor\":\"white\",\"linecolor\":\"white\",\"ticks\":\"\"}},\"scene\":{\"xaxis\":{\"backgroundcolor\":\"#E5ECF6\",\"gridcolor\":\"white\",\"gridwidth\":2,\"linecolor\":\"white\",\"showbackground\":true,\"ticks\":\"\",\"zerolinecolor\":\"white\"},\"yaxis\":{\"backgroundcolor\":\"#E5ECF6\",\"gridcolor\":\"white\",\"gridwidth\":2,\"linecolor\":\"white\",\"showbackground\":true,\"ticks\":\"\",\"zerolinecolor\":\"white\"},\"zaxis\":{\"backgroundcolor\":\"#E5ECF6\",\"gridcolor\":\"white\",\"gridwidth\":2,\"linecolor\":\"white\",\"showbackground\":true,\"ticks\":\"\",\"zerolinecolor\":\"white\"}},\"shapedefaults\":{\"line\":{\"color\":\"#2a3f5f\"}},\"ternary\":{\"aaxis\":{\"gridcolor\":\"white\",\"linecolor\":\"white\",\"ticks\":\"\"},\"baxis\":{\"gridcolor\":\"white\",\"linecolor\":\"white\",\"ticks\":\"\"},\"bgcolor\":\"#E5ECF6\",\"caxis\":{\"gridcolor\":\"white\",\"linecolor\":\"white\",\"ticks\":\"\"}},\"title\":{\"x\":0.05},\"xaxis\":{\"automargin\":true,\"gridcolor\":\"white\",\"linecolor\":\"white\",\"ticks\":\"\",\"title\":{\"standoff\":15},\"zerolinecolor\":\"white\",\"zerolinewidth\":2},\"yaxis\":{\"automargin\":true,\"gridcolor\":\"white\",\"linecolor\":\"white\",\"ticks\":\"\",\"title\":{\"standoff\":15},\"zerolinecolor\":\"white\",\"zerolinewidth\":2}}},\"xaxis\":{\"anchor\":\"y\",\"domain\":[0.0,1.0],\"title\":{\"text\":\"\\uc7a5\\uc18c\"}},\"yaxis\":{\"anchor\":\"x\",\"domain\":[0.0,1.0],\"title\":{\"text\":\"\\uc628\\ub3c4\"},\"range\":[10.242857142857144,30.000000000000004]},\"legend\":{\"tracegroupgap\":0,\"itemsizing\":\"constant\"},\"margin\":{\"t\":60},\"updatemenus\":[{\"buttons\":[{\"args\":[null,{\"frame\":{\"duration\":500,\"redraw\":false},\"mode\":\"immediate\",\"fromcurrent\":true,\"transition\":{\"duration\":500,\"easing\":\"linear\"}}],\"label\":\"&#9654;\",\"method\":\"animate\"},{\"args\":[[null],{\"frame\":{\"duration\":0,\"redraw\":false},\"mode\":\"immediate\",\"fromcurrent\":true,\"transition\":{\"duration\":0,\"easing\":\"linear\"}}],\"label\":\"&#9724;\",\"method\":\"animate\"}],\"direction\":\"left\",\"pad\":{\"r\":10,\"t\":70},\"showactive\":false,\"type\":\"buttons\",\"x\":0.1,\"xanchor\":\"right\",\"y\":0,\"yanchor\":\"top\"}],\"sliders\":[{\"active\":0,\"currentvalue\":{\"prefix\":\"\\uc5f0\\uc911\\uc8fc\\uc218=\"},\"len\":0.9,\"pad\":{\"b\":10,\"t\":60},\"steps\":[{\"args\":[[\"14\\uc8fc\"],{\"frame\":{\"duration\":0,\"redraw\":false},\"mode\":\"immediate\",\"fromcurrent\":true,\"transition\":{\"duration\":0,\"easing\":\"linear\"}}],\"label\":\"14\\uc8fc\",\"method\":\"animate\"},{\"args\":[[\"15\\uc8fc\"],{\"frame\":{\"duration\":0,\"redraw\":false},\"mode\":\"immediate\",\"fromcurrent\":true,\"transition\":{\"duration\":0,\"easing\":\"linear\"}}],\"label\":\"15\\uc8fc\",\"method\":\"animate\"},{\"args\":[[\"16\\uc8fc\"],{\"frame\":{\"duration\":0,\"redraw\":false},\"mode\":\"immediate\",\"fromcurrent\":true,\"transition\":{\"duration\":0,\"easing\":\"linear\"}}],\"label\":\"16\\uc8fc\",\"method\":\"animate\"},{\"args\":[[\"17\\uc8fc\"],{\"frame\":{\"duration\":0,\"redraw\":false},\"mode\":\"immediate\",\"fromcurrent\":true,\"transition\":{\"duration\":0,\"easing\":\"linear\"}}],\"label\":\"17\\uc8fc\",\"method\":\"animate\"},{\"args\":[[\"18\\uc8fc\"],{\"frame\":{\"duration\":0,\"redraw\":false},\"mode\":\"immediate\",\"fromcurrent\":true,\"transition\":{\"duration\":0,\"easing\":\"linear\"}}],\"label\":\"18\\uc8fc\",\"method\":\"animate\"},{\"args\":[[\"19\\uc8fc\"],{\"frame\":{\"duration\":0,\"redraw\":false},\"mode\":\"immediate\",\"fromcurrent\":true,\"transition\":{\"duration\":0,\"easing\":\"linear\"}}],\"label\":\"19\\uc8fc\",\"method\":\"animate\"},{\"args\":[[\"20\\uc8fc\"],{\"frame\":{\"duration\":0,\"redraw\":false},\"mode\":\"immediate\",\"fromcurrent\":true,\"transition\":{\"duration\":0,\"easing\":\"linear\"}}],\"label\":\"20\\uc8fc\",\"method\":\"animate\"},{\"args\":[[\"21\\uc8fc\"],{\"frame\":{\"duration\":0,\"redraw\":false},\"mode\":\"immediate\",\"fromcurrent\":true,\"transition\":{\"duration\":0,\"easing\":\"linear\"}}],\"label\":\"21\\uc8fc\",\"method\":\"animate\"},{\"args\":[[\"22\\uc8fc\"],{\"frame\":{\"duration\":0,\"redraw\":false},\"mode\":\"immediate\",\"fromcurrent\":true,\"transition\":{\"duration\":0,\"easing\":\"linear\"}}],\"label\":\"22\\uc8fc\",\"method\":\"animate\"},{\"args\":[[\"23\\uc8fc\"],{\"frame\":{\"duration\":0,\"redraw\":false},\"mode\":\"immediate\",\"fromcurrent\":true,\"transition\":{\"duration\":0,\"easing\":\"linear\"}}],\"label\":\"23\\uc8fc\",\"method\":\"animate\"},{\"args\":[[\"24\\uc8fc\"],{\"frame\":{\"duration\":0,\"redraw\":false},\"mode\":\"immediate\",\"fromcurrent\":true,\"transition\":{\"duration\":0,\"easing\":\"linear\"}}],\"label\":\"24\\uc8fc\",\"method\":\"animate\"},{\"args\":[[\"25\\uc8fc\"],{\"frame\":{\"duration\":0,\"redraw\":false},\"mode\":\"immediate\",\"fromcurrent\":true,\"transition\":{\"duration\":0,\"easing\":\"linear\"}}],\"label\":\"25\\uc8fc\",\"method\":\"animate\"},{\"args\":[[\"26\\uc8fc\"],{\"frame\":{\"duration\":0,\"redraw\":false},\"mode\":\"immediate\",\"fromcurrent\":true,\"transition\":{\"duration\":0,\"easing\":\"linear\"}}],\"label\":\"26\\uc8fc\",\"method\":\"animate\"},{\"args\":[[\"27\\uc8fc\"],{\"frame\":{\"duration\":0,\"redraw\":false},\"mode\":\"immediate\",\"fromcurrent\":true,\"transition\":{\"duration\":0,\"easing\":\"linear\"}}],\"label\":\"27\\uc8fc\",\"method\":\"animate\"},{\"args\":[[\"28\\uc8fc\"],{\"frame\":{\"duration\":0,\"redraw\":false},\"mode\":\"immediate\",\"fromcurrent\":true,\"transition\":{\"duration\":0,\"easing\":\"linear\"}}],\"label\":\"28\\uc8fc\",\"method\":\"animate\"},{\"args\":[[\"29\\uc8fc\"],{\"frame\":{\"duration\":0,\"redraw\":false},\"mode\":\"immediate\",\"fromcurrent\":true,\"transition\":{\"duration\":0,\"easing\":\"linear\"}}],\"label\":\"29\\uc8fc\",\"method\":\"animate\"},{\"args\":[[\"30\\uc8fc\"],{\"frame\":{\"duration\":0,\"redraw\":false},\"mode\":\"immediate\",\"fromcurrent\":true,\"transition\":{\"duration\":0,\"easing\":\"linear\"}}],\"label\":\"30\\uc8fc\",\"method\":\"animate\"},{\"args\":[[\"31\\uc8fc\"],{\"frame\":{\"duration\":0,\"redraw\":false},\"mode\":\"immediate\",\"fromcurrent\":true,\"transition\":{\"duration\":0,\"easing\":\"linear\"}}],\"label\":\"31\\uc8fc\",\"method\":\"animate\"},{\"args\":[[\"32\\uc8fc\"],{\"frame\":{\"duration\":0,\"redraw\":false},\"mode\":\"immediate\",\"fromcurrent\":true,\"transition\":{\"duration\":0,\"easing\":\"linear\"}}],\"label\":\"32\\uc8fc\",\"method\":\"animate\"},{\"args\":[[\"33\\uc8fc\"],{\"frame\":{\"duration\":0,\"redraw\":false},\"mode\":\"immediate\",\"fromcurrent\":true,\"transition\":{\"duration\":0,\"easing\":\"linear\"}}],\"label\":\"33\\uc8fc\",\"method\":\"animate\"},{\"args\":[[\"34\\uc8fc\"],{\"frame\":{\"duration\":0,\"redraw\":false},\"mode\":\"immediate\",\"fromcurrent\":true,\"transition\":{\"duration\":0,\"easing\":\"linear\"}}],\"label\":\"34\\uc8fc\",\"method\":\"animate\"},{\"args\":[[\"35\\uc8fc\"],{\"frame\":{\"duration\":0,\"redraw\":false},\"mode\":\"immediate\",\"fromcurrent\":true,\"transition\":{\"duration\":0,\"easing\":\"linear\"}}],\"label\":\"35\\uc8fc\",\"method\":\"animate\"},{\"args\":[[\"36\\uc8fc\"],{\"frame\":{\"duration\":0,\"redraw\":false},\"mode\":\"immediate\",\"fromcurrent\":true,\"transition\":{\"duration\":0,\"easing\":\"linear\"}}],\"label\":\"36\\uc8fc\",\"method\":\"animate\"},{\"args\":[[\"37\\uc8fc\"],{\"frame\":{\"duration\":0,\"redraw\":false},\"mode\":\"immediate\",\"fromcurrent\":true,\"transition\":{\"duration\":0,\"easing\":\"linear\"}}],\"label\":\"37\\uc8fc\",\"method\":\"animate\"},{\"args\":[[\"38\\uc8fc\"],{\"frame\":{\"duration\":0,\"redraw\":false},\"mode\":\"immediate\",\"fromcurrent\":true,\"transition\":{\"duration\":0,\"easing\":\"linear\"}}],\"label\":\"38\\uc8fc\",\"method\":\"animate\"},{\"args\":[[\"39\\uc8fc\"],{\"frame\":{\"duration\":0,\"redraw\":false},\"mode\":\"immediate\",\"fromcurrent\":true,\"transition\":{\"duration\":0,\"easing\":\"linear\"}}],\"label\":\"39\\uc8fc\",\"method\":\"animate\"},{\"args\":[[\"40\\uc8fc\"],{\"frame\":{\"duration\":0,\"redraw\":false},\"mode\":\"immediate\",\"fromcurrent\":true,\"transition\":{\"duration\":0,\"easing\":\"linear\"}}],\"label\":\"40\\uc8fc\",\"method\":\"animate\"},{\"args\":[[\"41\\uc8fc\"],{\"frame\":{\"duration\":0,\"redraw\":false},\"mode\":\"immediate\",\"fromcurrent\":true,\"transition\":{\"duration\":0,\"easing\":\"linear\"}}],\"label\":\"41\\uc8fc\",\"method\":\"animate\"},{\"args\":[[\"42\\uc8fc\"],{\"frame\":{\"duration\":0,\"redraw\":false},\"mode\":\"immediate\",\"fromcurrent\":true,\"transition\":{\"duration\":0,\"easing\":\"linear\"}}],\"label\":\"42\\uc8fc\",\"method\":\"animate\"},{\"args\":[[\"43\\uc8fc\"],{\"frame\":{\"duration\":0,\"redraw\":false},\"mode\":\"immediate\",\"fromcurrent\":true,\"transition\":{\"duration\":0,\"easing\":\"linear\"}}],\"label\":\"43\\uc8fc\",\"method\":\"animate\"},{\"args\":[[\"44\\uc8fc\"],{\"frame\":{\"duration\":0,\"redraw\":false},\"mode\":\"immediate\",\"fromcurrent\":true,\"transition\":{\"duration\":0,\"easing\":\"linear\"}}],\"label\":\"44\\uc8fc\",\"method\":\"animate\"}],\"x\":0.1,\"xanchor\":\"left\",\"y\":0,\"yanchor\":\"top\"}]},                        {\"responsive\": true}                    ).then(function(){\n",
              "                            Plotly.addFrames('24f19080-b30c-44df-8229-5af8c2f46a39', [{\"data\":[{\"hovertemplate\":\"\\uc5f0\\uc911\\uc8fc\\uc218=14\\uc8fc<br>\\uc7a5\\uc18c=%{x}<br>\\uc628\\ub3c4=%{y}<br>\\ube68\\uac04\\uc9d1\\ubaa8\\uae30=%{marker.size}<extra></extra>\",\"legendgroup\":\"\",\"marker\":{\"color\":\"#636efa\",\"size\":[16,7,2,11,15,0,1,2,2,2,1,0],\"sizemode\":\"area\",\"sizeref\":3.3175,\"symbol\":\"circle\"},\"mode\":\"markers\",\"name\":\"\",\"orientation\":\"v\",\"showlegend\":false,\"x\":[\"\\uacc4\\uc591\\uad6c \\uc120\\uc8fc\\uc9c0\\ub3d9\",\"\\ubd80\\ud3c9\\uad6c \\ubd80\\ud3c9\\ub3d9\",\" \\uc11c\\uad6c \\uc5f0\\ud76c\\ub3d9\",\" \\uc11c\\uad6c \\ubc31\\uc11d\\ub3d9\",\"\\uc911\\uad6c \\uc6b4\\ub0a8\\ub3d9 (\\uc601\\uc885\\ub3c4)\",\"\\uac15\\ud654 \\uc1a1\\ud574\\uba74 (\\uc22d\\ub8b0\\ub9ac)\",\"\\uac15\\ud654 \\uc1a1\\ud574\\uba74 (\\uc194\\uc815\\ub9ac)\",\"\\uac15\\ud654 \\uc120\\uc6d0\\uba74 (\\uae08\\uc6d4\\ub9ac)\",\"\\uac15\\ud654 \\uc0bc\\uc0b0\\uba74 (\\uc11d\\ubaa8\\ub9ac)\",\"\\uac15\\ud654 \\uad50\\ub3d9\\uba74 (\\ub300\\ub8e1\\ub9ac)\",\"\\uac15\\ud654 \\uac15\\ud654\\uc74d (\\ub300\\uc0b0\\ub9ac)\",\"\\uac15\\ud654 \\uac15\\ud654\\uc74d (\\uc6d4\\uacf3\\ub9ac)\"],\"xaxis\":\"x\",\"y\":[13.599999999999998,13.599999999999998,13.599999999999998,13.599999999999998,13.599999999999998,12.771428571428572,12.771428571428572,12.771428571428572,12.771428571428572,12.771428571428572,12.771428571428572,12.771428571428572],\"yaxis\":\"y\",\"type\":\"scatter\"}],\"name\":\"14\\uc8fc\"},{\"data\":[{\"hovertemplate\":\"\\uc5f0\\uc911\\uc8fc\\uc218=15\\uc8fc<br>\\uc7a5\\uc18c=%{x}<br>\\uc628\\ub3c4=%{y}<br>\\ube68\\uac04\\uc9d1\\ubaa8\\uae30=%{marker.size}<extra></extra>\",\"legendgroup\":\"\",\"marker\":{\"color\":\"#636efa\",\"size\":[13,0,2,7,20,16,10,1,7,6,9,6],\"sizemode\":\"area\",\"sizeref\":3.3175,\"symbol\":\"circle\"},\"mode\":\"markers\",\"name\":\"\",\"orientation\":\"v\",\"showlegend\":false,\"x\":[\"\\uacc4\\uc591\\uad6c \\uc120\\uc8fc\\uc9c0\\ub3d9\",\"\\ubd80\\ud3c9\\uad6c \\ubd80\\ud3c9\\ub3d9\",\" \\uc11c\\uad6c \\uc5f0\\ud76c\\ub3d9\",\" \\uc11c\\uad6c \\ubc31\\uc11d\\ub3d9\",\"\\uc911\\uad6c \\uc6b4\\ub0a8\\ub3d9 (\\uc601\\uc885\\ub3c4)\",\"\\uac15\\ud654 \\uc1a1\\ud574\\uba74 (\\uc22d\\ub8b0\\ub9ac)\",\"\\uac15\\ud654 \\uc1a1\\ud574\\uba74 (\\uc194\\uc815\\ub9ac)\",\"\\uac15\\ud654 \\uc120\\uc6d0\\uba74 (\\uae08\\uc6d4\\ub9ac)\",\"\\uac15\\ud654 \\uc0bc\\uc0b0\\uba74 (\\uc11d\\ubaa8\\ub9ac)\",\"\\uac15\\ud654 \\uad50\\ub3d9\\uba74 (\\ub300\\ub8e1\\ub9ac)\",\"\\uac15\\ud654 \\uac15\\ud654\\uc74d (\\ub300\\uc0b0\\ub9ac)\",\"\\uac15\\ud654 \\uac15\\ud654\\uc74d (\\uc6d4\\uacf3\\ub9ac)\"],\"xaxis\":\"x\",\"y\":[11.542857142857143,11.542857142857143,11.542857142857143,11.542857142857143,11.542857142857143,10.8,10.8,10.8,10.8,10.8,10.8,10.8],\"yaxis\":\"y\",\"type\":\"scatter\"}],\"name\":\"15\\uc8fc\"},{\"data\":[{\"hovertemplate\":\"\\uc5f0\\uc911\\uc8fc\\uc218=16\\uc8fc<br>\\uc7a5\\uc18c=%{x}<br>\\uc628\\ub3c4=%{y}<br>\\ube68\\uac04\\uc9d1\\ubaa8\\uae30=%{marker.size}<extra></extra>\",\"legendgroup\":\"\",\"marker\":{\"color\":\"#636efa\",\"size\":[0,0,2,1,7,9,2,0,4,0,6,4],\"sizemode\":\"area\",\"sizeref\":3.3175,\"symbol\":\"circle\"},\"mode\":\"markers\",\"name\":\"\",\"orientation\":\"v\",\"showlegend\":false,\"x\":[\"\\uacc4\\uc591\\uad6c \\uc120\\uc8fc\\uc9c0\\ub3d9\",\"\\ubd80\\ud3c9\\uad6c \\ubd80\\ud3c9\\ub3d9\",\" \\uc11c\\uad6c \\uc5f0\\ud76c\\ub3d9\",\" \\uc11c\\uad6c \\ubc31\\uc11d\\ub3d9\",\"\\uc911\\uad6c \\uc6b4\\ub0a8\\ub3d9 (\\uc601\\uc885\\ub3c4)\",\"\\uac15\\ud654 \\uc1a1\\ud574\\uba74 (\\uc22d\\ub8b0\\ub9ac)\",\"\\uac15\\ud654 \\uc1a1\\ud574\\uba74 (\\uc194\\uc815\\ub9ac)\",\"\\uac15\\ud654 \\uc120\\uc6d0\\uba74 (\\uae08\\uc6d4\\ub9ac)\",\"\\uac15\\ud654 \\uc0bc\\uc0b0\\uba74 (\\uc11d\\ubaa8\\ub9ac)\",\"\\uac15\\ud654 \\uad50\\ub3d9\\uba74 (\\ub300\\ub8e1\\ub9ac)\",\"\\uac15\\ud654 \\uac15\\ud654\\uc74d (\\ub300\\uc0b0\\ub9ac)\",\"\\uac15\\ud654 \\uac15\\ud654\\uc74d (\\uc6d4\\uacf3\\ub9ac)\"],\"xaxis\":\"x\",\"y\":[11.471428571428572,11.471428571428572,11.471428571428572,11.471428571428572,11.471428571428572,10.928571428571429,10.928571428571429,10.928571428571429,10.928571428571429,10.928571428571429,10.928571428571429,10.928571428571429],\"yaxis\":\"y\",\"type\":\"scatter\"}],\"name\":\"16\\uc8fc\"},{\"data\":[{\"hovertemplate\":\"\\uc5f0\\uc911\\uc8fc\\uc218=17\\uc8fc<br>\\uc7a5\\uc18c=%{x}<br>\\uc628\\ub3c4=%{y}<br>\\ube68\\uac04\\uc9d1\\ubaa8\\uae30=%{marker.size}<extra></extra>\",\"legendgroup\":\"\",\"marker\":{\"color\":\"#636efa\",\"size\":[22,4,5,4,21,3,0,0,12,5,5,2],\"sizemode\":\"area\",\"sizeref\":3.3175,\"symbol\":\"circle\"},\"mode\":\"markers\",\"name\":\"\",\"orientation\":\"v\",\"showlegend\":false,\"x\":[\"\\uacc4\\uc591\\uad6c \\uc120\\uc8fc\\uc9c0\\ub3d9\",\"\\ubd80\\ud3c9\\uad6c \\ubd80\\ud3c9\\ub3d9\",\" \\uc11c\\uad6c \\uc5f0\\ud76c\\ub3d9\",\" \\uc11c\\uad6c \\ubc31\\uc11d\\ub3d9\",\"\\uc911\\uad6c \\uc6b4\\ub0a8\\ub3d9 (\\uc601\\uc885\\ub3c4)\",\"\\uac15\\ud654 \\uc1a1\\ud574\\uba74 (\\uc22d\\ub8b0\\ub9ac)\",\"\\uac15\\ud654 \\uc1a1\\ud574\\uba74 (\\uc194\\uc815\\ub9ac)\",\"\\uac15\\ud654 \\uc120\\uc6d0\\uba74 (\\uae08\\uc6d4\\ub9ac)\",\"\\uac15\\ud654 \\uc0bc\\uc0b0\\uba74 (\\uc11d\\ubaa8\\ub9ac)\",\"\\uac15\\ud654 \\uad50\\ub3d9\\uba74 (\\ub300\\ub8e1\\ub9ac)\",\"\\uac15\\ud654 \\uac15\\ud654\\uc74d (\\ub300\\uc0b0\\ub9ac)\",\"\\uac15\\ud654 \\uac15\\ud654\\uc74d (\\uc6d4\\uacf3\\ub9ac)\"],\"xaxis\":\"x\",\"y\":[16.22857142857143,16.22857142857143,16.22857142857143,16.22857142857143,16.22857142857143,15.414285714285715,15.414285714285715,15.414285714285715,15.414285714285715,15.414285714285715,15.414285714285715,15.414285714285715],\"yaxis\":\"y\",\"type\":\"scatter\"}],\"name\":\"17\\uc8fc\"},{\"data\":[{\"hovertemplate\":\"\\uc5f0\\uc911\\uc8fc\\uc218=18\\uc8fc<br>\\uc7a5\\uc18c=%{x}<br>\\uc628\\ub3c4=%{y}<br>\\ube68\\uac04\\uc9d1\\ubaa8\\uae30=%{marker.size}<extra></extra>\",\"legendgroup\":\"\",\"marker\":{\"color\":\"#636efa\",\"size\":[9,0,0,1,4,2,3,2,0,2,7,2],\"sizemode\":\"area\",\"sizeref\":3.3175,\"symbol\":\"circle\"},\"mode\":\"markers\",\"name\":\"\",\"orientation\":\"v\",\"showlegend\":false,\"x\":[\"\\uacc4\\uc591\\uad6c \\uc120\\uc8fc\\uc9c0\\ub3d9\",\"\\ubd80\\ud3c9\\uad6c \\ubd80\\ud3c9\\ub3d9\",\" \\uc11c\\uad6c \\uc5f0\\ud76c\\ub3d9\",\" \\uc11c\\uad6c \\ubc31\\uc11d\\ub3d9\",\"\\uc911\\uad6c \\uc6b4\\ub0a8\\ub3d9 (\\uc601\\uc885\\ub3c4)\",\"\\uac15\\ud654 \\uc1a1\\ud574\\uba74 (\\uc22d\\ub8b0\\ub9ac)\",\"\\uac15\\ud654 \\uc1a1\\ud574\\uba74 (\\uc194\\uc815\\ub9ac)\",\"\\uac15\\ud654 \\uc120\\uc6d0\\uba74 (\\uae08\\uc6d4\\ub9ac)\",\"\\uac15\\ud654 \\uc0bc\\uc0b0\\uba74 (\\uc11d\\ubaa8\\ub9ac)\",\"\\uac15\\ud654 \\uad50\\ub3d9\\uba74 (\\ub300\\ub8e1\\ub9ac)\",\"\\uac15\\ud654 \\uac15\\ud654\\uc74d (\\ub300\\uc0b0\\ub9ac)\",\"\\uac15\\ud654 \\uac15\\ud654\\uc74d (\\uc6d4\\uacf3\\ub9ac)\"],\"xaxis\":\"x\",\"y\":[12.328571428571427,12.328571428571427,12.328571428571427,12.328571428571427,12.328571428571427,11.871428571428572,11.871428571428572,11.871428571428572,11.871428571428572,11.871428571428572,11.871428571428572,11.871428571428572],\"yaxis\":\"y\",\"type\":\"scatter\"}],\"name\":\"18\\uc8fc\"},{\"data\":[{\"hovertemplate\":\"\\uc5f0\\uc911\\uc8fc\\uc218=19\\uc8fc<br>\\uc7a5\\uc18c=%{x}<br>\\uc628\\ub3c4=%{y}<br>\\ube68\\uac04\\uc9d1\\ubaa8\\uae30=%{marker.size}<extra></extra>\",\"legendgroup\":\"\",\"marker\":{\"color\":\"#636efa\",\"size\":[180,11,13,36,6,0,1,1,1,0,3,2],\"sizemode\":\"area\",\"sizeref\":3.3175,\"symbol\":\"circle\"},\"mode\":\"markers\",\"name\":\"\",\"orientation\":\"v\",\"showlegend\":false,\"x\":[\"\\uacc4\\uc591\\uad6c \\uc120\\uc8fc\\uc9c0\\ub3d9\",\"\\ubd80\\ud3c9\\uad6c \\ubd80\\ud3c9\\ub3d9\",\" \\uc11c\\uad6c \\uc5f0\\ud76c\\ub3d9\",\" \\uc11c\\uad6c \\ubc31\\uc11d\\ub3d9\",\"\\uc911\\uad6c \\uc6b4\\ub0a8\\ub3d9 (\\uc601\\uc885\\ub3c4)\",\"\\uac15\\ud654 \\uc1a1\\ud574\\uba74 (\\uc22d\\ub8b0\\ub9ac)\",\"\\uac15\\ud654 \\uc1a1\\ud574\\uba74 (\\uc194\\uc815\\ub9ac)\",\"\\uac15\\ud654 \\uc120\\uc6d0\\uba74 (\\uae08\\uc6d4\\ub9ac)\",\"\\uac15\\ud654 \\uc0bc\\uc0b0\\uba74 (\\uc11d\\ubaa8\\ub9ac)\",\"\\uac15\\ud654 \\uad50\\ub3d9\\uba74 (\\ub300\\ub8e1\\ub9ac)\",\"\\uac15\\ud654 \\uac15\\ud654\\uc74d (\\ub300\\uc0b0\\ub9ac)\",\"\\uac15\\ud654 \\uac15\\ud654\\uc74d (\\uc6d4\\uacf3\\ub9ac)\"],\"xaxis\":\"x\",\"y\":[15.642857142857144,15.642857142857144,15.642857142857144,15.642857142857144,15.642857142857144,15.614285714285714,15.614285714285714,15.614285714285714,15.614285714285714,15.614285714285714,15.614285714285714,15.614285714285714],\"yaxis\":\"y\",\"type\":\"scatter\"}],\"name\":\"19\\uc8fc\"},{\"data\":[{\"hovertemplate\":\"\\uc5f0\\uc911\\uc8fc\\uc218=20\\uc8fc<br>\\uc7a5\\uc18c=%{x}<br>\\uc628\\ub3c4=%{y}<br>\\ube68\\uac04\\uc9d1\\ubaa8\\uae30=%{marker.size}<extra></extra>\",\"legendgroup\":\"\",\"marker\":{\"color\":\"#636efa\",\"size\":[97,11,1,66,29,5,31,5,9,0,7,3],\"sizemode\":\"area\",\"sizeref\":3.3175,\"symbol\":\"circle\"},\"mode\":\"markers\",\"name\":\"\",\"orientation\":\"v\",\"showlegend\":false,\"x\":[\"\\uacc4\\uc591\\uad6c \\uc120\\uc8fc\\uc9c0\\ub3d9\",\"\\ubd80\\ud3c9\\uad6c \\ubd80\\ud3c9\\ub3d9\",\" \\uc11c\\uad6c \\uc5f0\\ud76c\\ub3d9\",\" \\uc11c\\uad6c \\ubc31\\uc11d\\ub3d9\",\"\\uc911\\uad6c \\uc6b4\\ub0a8\\ub3d9 (\\uc601\\uc885\\ub3c4)\",\"\\uac15\\ud654 \\uc1a1\\ud574\\uba74 (\\uc22d\\ub8b0\\ub9ac)\",\"\\uac15\\ud654 \\uc1a1\\ud574\\uba74 (\\uc194\\uc815\\ub9ac)\",\"\\uac15\\ud654 \\uc120\\uc6d0\\uba74 (\\uae08\\uc6d4\\ub9ac)\",\"\\uac15\\ud654 \\uc0bc\\uc0b0\\uba74 (\\uc11d\\ubaa8\\ub9ac)\",\"\\uac15\\ud654 \\uad50\\ub3d9\\uba74 (\\ub300\\ub8e1\\ub9ac)\",\"\\uac15\\ud654 \\uac15\\ud654\\uc74d (\\ub300\\uc0b0\\ub9ac)\",\"\\uac15\\ud654 \\uac15\\ud654\\uc74d (\\uc6d4\\uacf3\\ub9ac)\"],\"xaxis\":\"x\",\"y\":[18.442857142857143,18.442857142857143,18.442857142857143,18.442857142857143,18.442857142857143,17.685714285714283,17.685714285714283,17.685714285714283,17.685714285714283,17.685714285714283,17.685714285714283,17.685714285714283],\"yaxis\":\"y\",\"type\":\"scatter\"}],\"name\":\"20\\uc8fc\"},{\"data\":[{\"hovertemplate\":\"\\uc5f0\\uc911\\uc8fc\\uc218=21\\uc8fc<br>\\uc7a5\\uc18c=%{x}<br>\\uc628\\ub3c4=%{y}<br>\\ube68\\uac04\\uc9d1\\ubaa8\\uae30=%{marker.size}<extra></extra>\",\"legendgroup\":\"\",\"marker\":{\"color\":\"#636efa\",\"size\":[206,4,7,78,40,1,31,8,9,0,3,14],\"sizemode\":\"area\",\"sizeref\":3.3175,\"symbol\":\"circle\"},\"mode\":\"markers\",\"name\":\"\",\"orientation\":\"v\",\"showlegend\":false,\"x\":[\"\\uacc4\\uc591\\uad6c \\uc120\\uc8fc\\uc9c0\\ub3d9\",\"\\ubd80\\ud3c9\\uad6c \\ubd80\\ud3c9\\ub3d9\",\" \\uc11c\\uad6c \\uc5f0\\ud76c\\ub3d9\",\" \\uc11c\\uad6c \\ubc31\\uc11d\\ub3d9\",\"\\uc911\\uad6c \\uc6b4\\ub0a8\\ub3d9 (\\uc601\\uc885\\ub3c4)\",\"\\uac15\\ud654 \\uc1a1\\ud574\\uba74 (\\uc22d\\ub8b0\\ub9ac)\",\"\\uac15\\ud654 \\uc1a1\\ud574\\uba74 (\\uc194\\uc815\\ub9ac)\",\"\\uac15\\ud654 \\uc120\\uc6d0\\uba74 (\\uae08\\uc6d4\\ub9ac)\",\"\\uac15\\ud654 \\uc0bc\\uc0b0\\uba74 (\\uc11d\\ubaa8\\ub9ac)\",\"\\uac15\\ud654 \\uad50\\ub3d9\\uba74 (\\ub300\\ub8e1\\ub9ac)\",\"\\uac15\\ud654 \\uac15\\ud654\\uc74d (\\ub300\\uc0b0\\ub9ac)\",\"\\uac15\\ud654 \\uac15\\ud654\\uc74d (\\uc6d4\\uacf3\\ub9ac)\"],\"xaxis\":\"x\",\"y\":[16.742857142857144,16.742857142857144,16.742857142857144,16.742857142857144,16.742857142857144,16.342857142857145,16.342857142857145,16.342857142857145,16.342857142857145,16.342857142857145,16.342857142857145,16.342857142857145],\"yaxis\":\"y\",\"type\":\"scatter\"}],\"name\":\"21\\uc8fc\"},{\"data\":[{\"hovertemplate\":\"\\uc5f0\\uc911\\uc8fc\\uc218=22\\uc8fc<br>\\uc7a5\\uc18c=%{x}<br>\\uc628\\ub3c4=%{y}<br>\\ube68\\uac04\\uc9d1\\ubaa8\\uae30=%{marker.size}<extra></extra>\",\"legendgroup\":\"\",\"marker\":{\"color\":\"#636efa\",\"size\":[95,5,3,95,2,7,5,3,6,1,4,1],\"sizemode\":\"area\",\"sizeref\":3.3175,\"symbol\":\"circle\"},\"mode\":\"markers\",\"name\":\"\",\"orientation\":\"v\",\"showlegend\":false,\"x\":[\"\\uacc4\\uc591\\uad6c \\uc120\\uc8fc\\uc9c0\\ub3d9\",\"\\ubd80\\ud3c9\\uad6c \\ubd80\\ud3c9\\ub3d9\",\" \\uc11c\\uad6c \\uc5f0\\ud76c\\ub3d9\",\" \\uc11c\\uad6c \\ubc31\\uc11d\\ub3d9\",\"\\uc911\\uad6c \\uc6b4\\ub0a8\\ub3d9 (\\uc601\\uc885\\ub3c4)\",\"\\uac15\\ud654 \\uc1a1\\ud574\\uba74 (\\uc22d\\ub8b0\\ub9ac)\",\"\\uac15\\ud654 \\uc1a1\\ud574\\uba74 (\\uc194\\uc815\\ub9ac)\",\"\\uac15\\ud654 \\uc120\\uc6d0\\uba74 (\\uae08\\uc6d4\\ub9ac)\",\"\\uac15\\ud654 \\uc0bc\\uc0b0\\uba74 (\\uc11d\\ubaa8\\ub9ac)\",\"\\uac15\\ud654 \\uad50\\ub3d9\\uba74 (\\ub300\\ub8e1\\ub9ac)\",\"\\uac15\\ud654 \\uac15\\ud654\\uc74d (\\ub300\\uc0b0\\ub9ac)\",\"\\uac15\\ud654 \\uac15\\ud654\\uc74d (\\uc6d4\\uacf3\\ub9ac)\"],\"xaxis\":\"x\",\"y\":[17.97142857142857,17.97142857142857,17.97142857142857,17.97142857142857,17.97142857142857,16.885714285714286,16.885714285714286,16.885714285714286,16.885714285714286,16.885714285714286,16.885714285714286,16.885714285714286],\"yaxis\":\"y\",\"type\":\"scatter\"}],\"name\":\"22\\uc8fc\"},{\"data\":[{\"hovertemplate\":\"\\uc5f0\\uc911\\uc8fc\\uc218=23\\uc8fc<br>\\uc7a5\\uc18c=%{x}<br>\\uc628\\ub3c4=%{y}<br>\\ube68\\uac04\\uc9d1\\ubaa8\\uae30=%{marker.size}<extra></extra>\",\"legendgroup\":\"\",\"marker\":{\"color\":\"#636efa\",\"size\":[62,4,1,139,19,3,9,0,0,7,3,10],\"sizemode\":\"area\",\"sizeref\":3.3175,\"symbol\":\"circle\"},\"mode\":\"markers\",\"name\":\"\",\"orientation\":\"v\",\"showlegend\":false,\"x\":[\"\\uacc4\\uc591\\uad6c \\uc120\\uc8fc\\uc9c0\\ub3d9\",\"\\ubd80\\ud3c9\\uad6c \\ubd80\\ud3c9\\ub3d9\",\" \\uc11c\\uad6c \\uc5f0\\ud76c\\ub3d9\",\" \\uc11c\\uad6c \\ubc31\\uc11d\\ub3d9\",\"\\uc911\\uad6c \\uc6b4\\ub0a8\\ub3d9 (\\uc601\\uc885\\ub3c4)\",\"\\uac15\\ud654 \\uc1a1\\ud574\\uba74 (\\uc22d\\ub8b0\\ub9ac)\",\"\\uac15\\ud654 \\uc1a1\\ud574\\uba74 (\\uc194\\uc815\\ub9ac)\",\"\\uac15\\ud654 \\uc120\\uc6d0\\uba74 (\\uae08\\uc6d4\\ub9ac)\",\"\\uac15\\ud654 \\uc0bc\\uc0b0\\uba74 (\\uc11d\\ubaa8\\ub9ac)\",\"\\uac15\\ud654 \\uad50\\ub3d9\\uba74 (\\ub300\\ub8e1\\ub9ac)\",\"\\uac15\\ud654 \\uac15\\ud654\\uc74d (\\ub300\\uc0b0\\ub9ac)\",\"\\uac15\\ud654 \\uac15\\ud654\\uc74d (\\uc6d4\\uacf3\\ub9ac)\"],\"xaxis\":\"x\",\"y\":[20.25714285714286,20.25714285714286,20.25714285714286,20.25714285714286,20.25714285714286,19.5,19.5,19.5,19.5,19.5,19.5,19.5],\"yaxis\":\"y\",\"type\":\"scatter\"}],\"name\":\"23\\uc8fc\"},{\"data\":[{\"hovertemplate\":\"\\uc5f0\\uc911\\uc8fc\\uc218=24\\uc8fc<br>\\uc7a5\\uc18c=%{x}<br>\\uc628\\ub3c4=%{y}<br>\\ube68\\uac04\\uc9d1\\ubaa8\\uae30=%{marker.size}<extra></extra>\",\"legendgroup\":\"\",\"marker\":{\"color\":\"#636efa\",\"size\":[52,10,0,57,7,2,3,5,2,4,5,4],\"sizemode\":\"area\",\"sizeref\":3.3175,\"symbol\":\"circle\"},\"mode\":\"markers\",\"name\":\"\",\"orientation\":\"v\",\"showlegend\":false,\"x\":[\"\\uacc4\\uc591\\uad6c \\uc120\\uc8fc\\uc9c0\\ub3d9\",\"\\ubd80\\ud3c9\\uad6c \\ubd80\\ud3c9\\ub3d9\",\" \\uc11c\\uad6c \\uc5f0\\ud76c\\ub3d9\",\" \\uc11c\\uad6c \\ubc31\\uc11d\\ub3d9\",\"\\uc911\\uad6c \\uc6b4\\ub0a8\\ub3d9 (\\uc601\\uc885\\ub3c4)\",\"\\uac15\\ud654 \\uc1a1\\ud574\\uba74 (\\uc22d\\ub8b0\\ub9ac)\",\"\\uac15\\ud654 \\uc1a1\\ud574\\uba74 (\\uc194\\uc815\\ub9ac)\",\"\\uac15\\ud654 \\uc120\\uc6d0\\uba74 (\\uae08\\uc6d4\\ub9ac)\",\"\\uac15\\ud654 \\uc0bc\\uc0b0\\uba74 (\\uc11d\\ubaa8\\ub9ac)\",\"\\uac15\\ud654 \\uad50\\ub3d9\\uba74 (\\ub300\\ub8e1\\ub9ac)\",\"\\uac15\\ud654 \\uac15\\ud654\\uc74d (\\ub300\\uc0b0\\ub9ac)\",\"\\uac15\\ud654 \\uac15\\ud654\\uc74d (\\uc6d4\\uacf3\\ub9ac)\"],\"xaxis\":\"x\",\"y\":[21.75714285714286,21.75714285714286,21.75714285714286,21.75714285714286,21.75714285714286,20.985714285714288,20.985714285714288,20.985714285714288,20.985714285714288,20.985714285714288,20.985714285714288,20.985714285714288],\"yaxis\":\"y\",\"type\":\"scatter\"}],\"name\":\"24\\uc8fc\"},{\"data\":[{\"hovertemplate\":\"\\uc5f0\\uc911\\uc8fc\\uc218=25\\uc8fc<br>\\uc7a5\\uc18c=%{x}<br>\\uc628\\ub3c4=%{y}<br>\\ube68\\uac04\\uc9d1\\ubaa8\\uae30=%{marker.size}<extra></extra>\",\"legendgroup\":\"\",\"marker\":{\"color\":\"#636efa\",\"size\":[23,3,2,121,7,3,4,4,3,24,8,5],\"sizemode\":\"area\",\"sizeref\":3.3175,\"symbol\":\"circle\"},\"mode\":\"markers\",\"name\":\"\",\"orientation\":\"v\",\"showlegend\":false,\"x\":[\"\\uacc4\\uc591\\uad6c \\uc120\\uc8fc\\uc9c0\\ub3d9\",\"\\ubd80\\ud3c9\\uad6c \\ubd80\\ud3c9\\ub3d9\",\" \\uc11c\\uad6c \\uc5f0\\ud76c\\ub3d9\",\" \\uc11c\\uad6c \\ubc31\\uc11d\\ub3d9\",\"\\uc911\\uad6c \\uc6b4\\ub0a8\\ub3d9 (\\uc601\\uc885\\ub3c4)\",\"\\uac15\\ud654 \\uc1a1\\ud574\\uba74 (\\uc22d\\ub8b0\\ub9ac)\",\"\\uac15\\ud654 \\uc1a1\\ud574\\uba74 (\\uc194\\uc815\\ub9ac)\",\"\\uac15\\ud654 \\uc120\\uc6d0\\uba74 (\\uae08\\uc6d4\\ub9ac)\",\"\\uac15\\ud654 \\uc0bc\\uc0b0\\uba74 (\\uc11d\\ubaa8\\ub9ac)\",\"\\uac15\\ud654 \\uad50\\ub3d9\\uba74 (\\ub300\\ub8e1\\ub9ac)\",\"\\uac15\\ud654 \\uac15\\ud654\\uc74d (\\ub300\\uc0b0\\ub9ac)\",\"\\uac15\\ud654 \\uac15\\ud654\\uc74d (\\uc6d4\\uacf3\\ub9ac)\"],\"xaxis\":\"x\",\"y\":[21.17142857142857,21.17142857142857,21.17142857142857,21.17142857142857,21.17142857142857,20.414285714285715,20.414285714285715,20.414285714285715,20.414285714285715,20.414285714285715,20.414285714285715,20.414285714285715],\"yaxis\":\"y\",\"type\":\"scatter\"}],\"name\":\"25\\uc8fc\"},{\"data\":[{\"hovertemplate\":\"\\uc5f0\\uc911\\uc8fc\\uc218=26\\uc8fc<br>\\uc7a5\\uc18c=%{x}<br>\\uc628\\ub3c4=%{y}<br>\\ube68\\uac04\\uc9d1\\ubaa8\\uae30=%{marker.size}<extra></extra>\",\"legendgroup\":\"\",\"marker\":{\"color\":\"#636efa\",\"size\":[61,3,8,76,6,4,10,3,0,4,10,4],\"sizemode\":\"area\",\"sizeref\":3.3175,\"symbol\":\"circle\"},\"mode\":\"markers\",\"name\":\"\",\"orientation\":\"v\",\"showlegend\":false,\"x\":[\"\\uacc4\\uc591\\uad6c \\uc120\\uc8fc\\uc9c0\\ub3d9\",\"\\ubd80\\ud3c9\\uad6c \\ubd80\\ud3c9\\ub3d9\",\" \\uc11c\\uad6c \\uc5f0\\ud76c\\ub3d9\",\" \\uc11c\\uad6c \\ubc31\\uc11d\\ub3d9\",\"\\uc911\\uad6c \\uc6b4\\ub0a8\\ub3d9 (\\uc601\\uc885\\ub3c4)\",\"\\uac15\\ud654 \\uc1a1\\ud574\\uba74 (\\uc22d\\ub8b0\\ub9ac)\",\"\\uac15\\ud654 \\uc1a1\\ud574\\uba74 (\\uc194\\uc815\\ub9ac)\",\"\\uac15\\ud654 \\uc120\\uc6d0\\uba74 (\\uae08\\uc6d4\\ub9ac)\",\"\\uac15\\ud654 \\uc0bc\\uc0b0\\uba74 (\\uc11d\\ubaa8\\ub9ac)\",\"\\uac15\\ud654 \\uad50\\ub3d9\\uba74 (\\ub300\\ub8e1\\ub9ac)\",\"\\uac15\\ud654 \\uac15\\ud654\\uc74d (\\ub300\\uc0b0\\ub9ac)\",\"\\uac15\\ud654 \\uac15\\ud654\\uc74d (\\uc6d4\\uacf3\\ub9ac)\"],\"xaxis\":\"x\",\"y\":[23.557142857142853,23.557142857142853,23.557142857142853,23.557142857142853,23.557142857142853,22.428571428571427,22.428571428571427,22.428571428571427,22.428571428571427,22.428571428571427,22.428571428571427,22.428571428571427],\"yaxis\":\"y\",\"type\":\"scatter\"}],\"name\":\"26\\uc8fc\"},{\"data\":[{\"hovertemplate\":\"\\uc5f0\\uc911\\uc8fc\\uc218=27\\uc8fc<br>\\uc7a5\\uc18c=%{x}<br>\\uc628\\ub3c4=%{y}<br>\\ube68\\uac04\\uc9d1\\ubaa8\\uae30=%{marker.size}<extra></extra>\",\"legendgroup\":\"\",\"marker\":{\"color\":\"#636efa\",\"size\":[94,10,1,504,11,1,4,8,9,24,24,7],\"sizemode\":\"area\",\"sizeref\":3.3175,\"symbol\":\"circle\"},\"mode\":\"markers\",\"name\":\"\",\"orientation\":\"v\",\"showlegend\":false,\"x\":[\"\\uacc4\\uc591\\uad6c \\uc120\\uc8fc\\uc9c0\\ub3d9\",\"\\ubd80\\ud3c9\\uad6c \\ubd80\\ud3c9\\ub3d9\",\" \\uc11c\\uad6c \\uc5f0\\ud76c\\ub3d9\",\" \\uc11c\\uad6c \\ubc31\\uc11d\\ub3d9\",\"\\uc911\\uad6c \\uc6b4\\ub0a8\\ub3d9 (\\uc601\\uc885\\ub3c4)\",\"\\uac15\\ud654 \\uc1a1\\ud574\\uba74 (\\uc22d\\ub8b0\\ub9ac)\",\"\\uac15\\ud654 \\uc1a1\\ud574\\uba74 (\\uc194\\uc815\\ub9ac)\",\"\\uac15\\ud654 \\uc120\\uc6d0\\uba74 (\\uae08\\uc6d4\\ub9ac)\",\"\\uac15\\ud654 \\uc0bc\\uc0b0\\uba74 (\\uc11d\\ubaa8\\ub9ac)\",\"\\uac15\\ud654 \\uad50\\ub3d9\\uba74 (\\ub300\\ub8e1\\ub9ac)\",\"\\uac15\\ud654 \\uac15\\ud654\\uc74d (\\ub300\\uc0b0\\ub9ac)\",\"\\uac15\\ud654 \\uac15\\ud654\\uc74d (\\uc6d4\\uacf3\\ub9ac)\"],\"xaxis\":\"x\",\"y\":[24.142857142857142,24.142857142857142,24.142857142857142,24.142857142857142,24.142857142857142,23.24285714285714,23.24285714285714,23.24285714285714,23.24285714285714,23.24285714285714,23.24285714285714,23.24285714285714],\"yaxis\":\"y\",\"type\":\"scatter\"}],\"name\":\"27\\uc8fc\"},{\"data\":[{\"hovertemplate\":\"\\uc5f0\\uc911\\uc8fc\\uc218=28\\uc8fc<br>\\uc7a5\\uc18c=%{x}<br>\\uc628\\ub3c4=%{y}<br>\\ube68\\uac04\\uc9d1\\ubaa8\\uae30=%{marker.size}<extra></extra>\",\"legendgroup\":\"\",\"marker\":{\"color\":\"#636efa\",\"size\":[105,6,1,1327,13,8,13,30,6,100,30,5],\"sizemode\":\"area\",\"sizeref\":3.3175,\"symbol\":\"circle\"},\"mode\":\"markers\",\"name\":\"\",\"orientation\":\"v\",\"showlegend\":false,\"x\":[\"\\uacc4\\uc591\\uad6c \\uc120\\uc8fc\\uc9c0\\ub3d9\",\"\\ubd80\\ud3c9\\uad6c \\ubd80\\ud3c9\\ub3d9\",\" \\uc11c\\uad6c \\uc5f0\\ud76c\\ub3d9\",\" \\uc11c\\uad6c \\ubc31\\uc11d\\ub3d9\",\"\\uc911\\uad6c \\uc6b4\\ub0a8\\ub3d9 (\\uc601\\uc885\\ub3c4)\",\"\\uac15\\ud654 \\uc1a1\\ud574\\uba74 (\\uc22d\\ub8b0\\ub9ac)\",\"\\uac15\\ud654 \\uc1a1\\ud574\\uba74 (\\uc194\\uc815\\ub9ac)\",\"\\uac15\\ud654 \\uc120\\uc6d0\\uba74 (\\uae08\\uc6d4\\ub9ac)\",\"\\uac15\\ud654 \\uc0bc\\uc0b0\\uba74 (\\uc11d\\ubaa8\\ub9ac)\",\"\\uac15\\ud654 \\uad50\\ub3d9\\uba74 (\\ub300\\ub8e1\\ub9ac)\",\"\\uac15\\ud654 \\uac15\\ud654\\uc74d (\\ub300\\uc0b0\\ub9ac)\",\"\\uac15\\ud654 \\uac15\\ud654\\uc74d (\\uc6d4\\uacf3\\ub9ac)\"],\"xaxis\":\"x\",\"y\":[25.87142857142857,25.87142857142857,25.87142857142857,25.87142857142857,25.87142857142857,25.085714285714285,25.085714285714285,25.085714285714285,25.085714285714285,25.085714285714285,25.085714285714285,25.085714285714285],\"yaxis\":\"y\",\"type\":\"scatter\"}],\"name\":\"28\\uc8fc\"},{\"data\":[{\"hovertemplate\":\"\\uc5f0\\uc911\\uc8fc\\uc218=29\\uc8fc<br>\\uc7a5\\uc18c=%{x}<br>\\uc628\\ub3c4=%{y}<br>\\ube68\\uac04\\uc9d1\\ubaa8\\uae30=%{marker.size}<extra></extra>\",\"legendgroup\":\"\",\"marker\":{\"color\":\"#636efa\",\"size\":[195,6,206,867,36,4,0,7,47,19,3],\"sizemode\":\"area\",\"sizeref\":3.3175,\"symbol\":\"circle\"},\"mode\":\"markers\",\"name\":\"\",\"orientation\":\"v\",\"showlegend\":false,\"x\":[\"\\uacc4\\uc591\\uad6c \\uc120\\uc8fc\\uc9c0\\ub3d9\",\"\\ubd80\\ud3c9\\uad6c \\ubd80\\ud3c9\\ub3d9\",\" \\uc11c\\uad6c \\uc5f0\\ud76c\\ub3d9\",\" \\uc11c\\uad6c \\ubc31\\uc11d\\ub3d9\",\"\\uc911\\uad6c \\uc6b4\\ub0a8\\ub3d9 (\\uc601\\uc885\\ub3c4)\",\"\\uac15\\ud654 \\uc1a1\\ud574\\uba74 (\\uc22d\\ub8b0\\ub9ac)\",\"\\uac15\\ud654 \\uc1a1\\ud574\\uba74 (\\uc194\\uc815\\ub9ac)\",\"\\uac15\\ud654 \\uc120\\uc6d0\\uba74 (\\uae08\\uc6d4\\ub9ac)\",\"\\uac15\\ud654 \\uc0bc\\uc0b0\\uba74 (\\uc11d\\ubaa8\\ub9ac)\",\"\\uac15\\ud654 \\uad50\\ub3d9\\uba74 (\\ub300\\ub8e1\\ub9ac)\",\"\\uac15\\ud654 \\uac15\\ud654\\uc74d (\\ub300\\uc0b0\\ub9ac)\"],\"xaxis\":\"x\",\"y\":[28.328571428571426,28.328571428571426,28.328571428571426,28.328571428571426,28.328571428571426,26.914285714285715,26.914285714285715,26.914285714285715,26.914285714285715,26.914285714285715,26.914285714285715],\"yaxis\":\"y\",\"type\":\"scatter\"}],\"name\":\"29\\uc8fc\"},{\"data\":[{\"hovertemplate\":\"\\uc5f0\\uc911\\uc8fc\\uc218=30\\uc8fc<br>\\uc7a5\\uc18c=%{x}<br>\\uc628\\ub3c4=%{y}<br>\\ube68\\uac04\\uc9d1\\ubaa8\\uae30=%{marker.size}<extra></extra>\",\"legendgroup\":\"\",\"marker\":{\"color\":\"#636efa\",\"size\":[24,6,18,511,26,1,0,1,18,77,12,11],\"sizemode\":\"area\",\"sizeref\":3.3175,\"symbol\":\"circle\"},\"mode\":\"markers\",\"name\":\"\",\"orientation\":\"v\",\"showlegend\":false,\"x\":[\"\\uacc4\\uc591\\uad6c \\uc120\\uc8fc\\uc9c0\\ub3d9\",\"\\ubd80\\ud3c9\\uad6c \\ubd80\\ud3c9\\ub3d9\",\" \\uc11c\\uad6c \\uc5f0\\ud76c\\ub3d9\",\" \\uc11c\\uad6c \\ubc31\\uc11d\\ub3d9\",\"\\uc911\\uad6c \\uc6b4\\ub0a8\\ub3d9 (\\uc601\\uc885\\ub3c4)\",\"\\uac15\\ud654 \\uc1a1\\ud574\\uba74 (\\uc22d\\ub8b0\\ub9ac)\",\"\\uac15\\ud654 \\uc1a1\\ud574\\uba74 (\\uc194\\uc815\\ub9ac)\",\"\\uac15\\ud654 \\uc120\\uc6d0\\uba74 (\\uae08\\uc6d4\\ub9ac)\",\"\\uac15\\ud654 \\uc0bc\\uc0b0\\uba74 (\\uc11d\\ubaa8\\ub9ac)\",\"\\uac15\\ud654 \\uad50\\ub3d9\\uba74 (\\ub300\\ub8e1\\ub9ac)\",\"\\uac15\\ud654 \\uac15\\ud654\\uc74d (\\ub300\\uc0b0\\ub9ac)\",\"\\uac15\\ud654 \\uac15\\ud654\\uc74d (\\uc6d4\\uacf3\\ub9ac)\"],\"xaxis\":\"x\",\"y\":[26.914285714285715,30.000000000000004,30.000000000000004,30.000000000000004,30.000000000000004,30.000000000000004,28.542857142857144,28.542857142857144,28.542857142857144,28.542857142857144,28.542857142857144,28.542857142857144],\"yaxis\":\"y\",\"type\":\"scatter\"}],\"name\":\"30\\uc8fc\"},{\"data\":[{\"hovertemplate\":\"\\uc5f0\\uc911\\uc8fc\\uc218=31\\uc8fc<br>\\uc7a5\\uc18c=%{x}<br>\\uc628\\ub3c4=%{y}<br>\\ube68\\uac04\\uc9d1\\ubaa8\\uae30=%{marker.size}<extra></extra>\",\"legendgroup\":\"\",\"marker\":{\"color\":\"#636efa\",\"size\":[119,23,17,771,13,6,1,1,5,204,1,0],\"sizemode\":\"area\",\"sizeref\":3.3175,\"symbol\":\"circle\"},\"mode\":\"markers\",\"name\":\"\",\"orientation\":\"v\",\"showlegend\":false,\"x\":[\"\\uacc4\\uc591\\uad6c \\uc120\\uc8fc\\uc9c0\\ub3d9\",\"\\ubd80\\ud3c9\\uad6c \\ubd80\\ud3c9\\ub3d9\",\" \\uc11c\\uad6c \\uc5f0\\ud76c\\ub3d9\",\" \\uc11c\\uad6c \\ubc31\\uc11d\\ub3d9\",\"\\uc911\\uad6c \\uc6b4\\ub0a8\\ub3d9 (\\uc601\\uc885\\ub3c4)\",\"\\uac15\\ud654 \\uc1a1\\ud574\\uba74 (\\uc22d\\ub8b0\\ub9ac)\",\"\\uac15\\ud654 \\uc1a1\\ud574\\uba74 (\\uc194\\uc815\\ub9ac)\",\"\\uac15\\ud654 \\uc120\\uc6d0\\uba74 (\\uae08\\uc6d4\\ub9ac)\",\"\\uac15\\ud654 \\uc0bc\\uc0b0\\uba74 (\\uc11d\\ubaa8\\ub9ac)\",\"\\uac15\\ud654 \\uad50\\ub3d9\\uba74 (\\ub300\\ub8e1\\ub9ac)\",\"\\uac15\\ud654 \\uac15\\ud654\\uc74d (\\ub300\\uc0b0\\ub9ac)\",\"\\uac15\\ud654 \\uac15\\ud654\\uc74d (\\uc6d4\\uacf3\\ub9ac)\"],\"xaxis\":\"x\",\"y\":[28.542857142857144,27.685714285714283,27.685714285714283,27.685714285714283,27.685714285714283,27.685714285714283,26.685714285714287,26.685714285714287,26.685714285714287,26.685714285714287,26.685714285714287,26.685714285714287],\"yaxis\":\"y\",\"type\":\"scatter\"}],\"name\":\"31\\uc8fc\"},{\"data\":[{\"hovertemplate\":\"\\uc5f0\\uc911\\uc8fc\\uc218=32\\uc8fc<br>\\uc7a5\\uc18c=%{x}<br>\\uc628\\ub3c4=%{y}<br>\\ube68\\uac04\\uc9d1\\ubaa8\\uae30=%{marker.size}<extra></extra>\",\"legendgroup\":\"\",\"marker\":{\"color\":\"#636efa\",\"size\":[118,30,10,154,8,2,6,2,2,201,0,11],\"sizemode\":\"area\",\"sizeref\":3.3175,\"symbol\":\"circle\"},\"mode\":\"markers\",\"name\":\"\",\"orientation\":\"v\",\"showlegend\":false,\"x\":[\"\\uacc4\\uc591\\uad6c \\uc120\\uc8fc\\uc9c0\\ub3d9\",\"\\ubd80\\ud3c9\\uad6c \\ubd80\\ud3c9\\ub3d9\",\" \\uc11c\\uad6c \\uc5f0\\ud76c\\ub3d9\",\" \\uc11c\\uad6c \\ubc31\\uc11d\\ub3d9\",\"\\uc911\\uad6c \\uc6b4\\ub0a8\\ub3d9 (\\uc601\\uc885\\ub3c4)\",\"\\uac15\\ud654 \\uc1a1\\ud574\\uba74 (\\uc22d\\ub8b0\\ub9ac)\",\"\\uac15\\ud654 \\uc1a1\\ud574\\uba74 (\\uc194\\uc815\\ub9ac)\",\"\\uac15\\ud654 \\uc120\\uc6d0\\uba74 (\\uae08\\uc6d4\\ub9ac)\",\"\\uac15\\ud654 \\uc0bc\\uc0b0\\uba74 (\\uc11d\\ubaa8\\ub9ac)\",\"\\uac15\\ud654 \\uad50\\ub3d9\\uba74 (\\ub300\\ub8e1\\ub9ac)\",\"\\uac15\\ud654 \\uac15\\ud654\\uc74d (\\ub300\\uc0b0\\ub9ac)\",\"\\uac15\\ud654 \\uac15\\ud654\\uc74d (\\uc6d4\\uacf3\\ub9ac)\"],\"xaxis\":\"x\",\"y\":[26.685714285714287,27.314285714285713,27.314285714285713,27.314285714285713,27.314285714285713,27.314285714285713,25.98571428571429,25.98571428571429,25.98571428571429,25.98571428571429,25.98571428571429,25.98571428571429],\"yaxis\":\"y\",\"type\":\"scatter\"}],\"name\":\"32\\uc8fc\"},{\"data\":[{\"hovertemplate\":\"\\uc5f0\\uc911\\uc8fc\\uc218=33\\uc8fc<br>\\uc7a5\\uc18c=%{x}<br>\\uc628\\ub3c4=%{y}<br>\\ube68\\uac04\\uc9d1\\ubaa8\\uae30=%{marker.size}<extra></extra>\",\"legendgroup\":\"\",\"marker\":{\"color\":\"#636efa\",\"size\":[59,18,4,211,40,0,4,11,5,187,0,2],\"sizemode\":\"area\",\"sizeref\":3.3175,\"symbol\":\"circle\"},\"mode\":\"markers\",\"name\":\"\",\"orientation\":\"v\",\"showlegend\":false,\"x\":[\"\\uacc4\\uc591\\uad6c \\uc120\\uc8fc\\uc9c0\\ub3d9\",\"\\ubd80\\ud3c9\\uad6c \\ubd80\\ud3c9\\ub3d9\",\" \\uc11c\\uad6c \\uc5f0\\ud76c\\ub3d9\",\" \\uc11c\\uad6c \\ubc31\\uc11d\\ub3d9\",\"\\uc911\\uad6c \\uc6b4\\ub0a8\\ub3d9 (\\uc601\\uc885\\ub3c4)\",\"\\uac15\\ud654 \\uc1a1\\ud574\\uba74 (\\uc22d\\ub8b0\\ub9ac)\",\"\\uac15\\ud654 \\uc1a1\\ud574\\uba74 (\\uc194\\uc815\\ub9ac)\",\"\\uac15\\ud654 \\uc120\\uc6d0\\uba74 (\\uae08\\uc6d4\\ub9ac)\",\"\\uac15\\ud654 \\uc0bc\\uc0b0\\uba74 (\\uc11d\\ubaa8\\ub9ac)\",\"\\uac15\\ud654 \\uad50\\ub3d9\\uba74 (\\ub300\\ub8e1\\ub9ac)\",\"\\uac15\\ud654 \\uac15\\ud654\\uc74d (\\ub300\\uc0b0\\ub9ac)\",\"\\uac15\\ud654 \\uac15\\ud654\\uc74d (\\uc6d4\\uacf3\\ub9ac)\"],\"xaxis\":\"x\",\"y\":[25.98571428571429,26.071428571428573,26.071428571428573,26.071428571428573,26.071428571428573,26.071428571428573,25.057142857142857,25.057142857142857,25.057142857142857,25.057142857142857,25.057142857142857,25.057142857142857],\"yaxis\":\"y\",\"type\":\"scatter\"}],\"name\":\"33\\uc8fc\"},{\"data\":[{\"hovertemplate\":\"\\uc5f0\\uc911\\uc8fc\\uc218=34\\uc8fc<br>\\uc7a5\\uc18c=%{x}<br>\\uc628\\ub3c4=%{y}<br>\\ube68\\uac04\\uc9d1\\ubaa8\\uae30=%{marker.size}<extra></extra>\",\"legendgroup\":\"\",\"marker\":{\"color\":\"#636efa\",\"size\":[34,23,6,610,24,0,10,18,3,239,6,1],\"sizemode\":\"area\",\"sizeref\":3.3175,\"symbol\":\"circle\"},\"mode\":\"markers\",\"name\":\"\",\"orientation\":\"v\",\"showlegend\":false,\"x\":[\"\\uacc4\\uc591\\uad6c \\uc120\\uc8fc\\uc9c0\\ub3d9\",\"\\ubd80\\ud3c9\\uad6c \\ubd80\\ud3c9\\ub3d9\",\" \\uc11c\\uad6c \\uc5f0\\ud76c\\ub3d9\",\" \\uc11c\\uad6c \\ubc31\\uc11d\\ub3d9\",\"\\uc911\\uad6c \\uc6b4\\ub0a8\\ub3d9 (\\uc601\\uc885\\ub3c4)\",\"\\uac15\\ud654 \\uc1a1\\ud574\\uba74 (\\uc22d\\ub8b0\\ub9ac)\",\"\\uac15\\ud654 \\uc1a1\\ud574\\uba74 (\\uc194\\uc815\\ub9ac)\",\"\\uac15\\ud654 \\uc120\\uc6d0\\uba74 (\\uae08\\uc6d4\\ub9ac)\",\"\\uac15\\ud654 \\uc0bc\\uc0b0\\uba74 (\\uc11d\\ubaa8\\ub9ac)\",\"\\uac15\\ud654 \\uad50\\ub3d9\\uba74 (\\ub300\\ub8e1\\ub9ac)\",\"\\uac15\\ud654 \\uac15\\ud654\\uc74d (\\ub300\\uc0b0\\ub9ac)\",\"\\uac15\\ud654 \\uac15\\ud654\\uc74d (\\uc6d4\\uacf3\\ub9ac)\"],\"xaxis\":\"x\",\"y\":[25.057142857142857,24.357142857142858,24.357142857142858,24.357142857142858,24.357142857142858,24.357142857142858,23.61428571428571,23.61428571428571,23.61428571428571,23.61428571428571,23.61428571428571,23.61428571428571],\"yaxis\":\"y\",\"type\":\"scatter\"}],\"name\":\"34\\uc8fc\"},{\"data\":[{\"hovertemplate\":\"\\uc5f0\\uc911\\uc8fc\\uc218=35\\uc8fc<br>\\uc7a5\\uc18c=%{x}<br>\\uc628\\ub3c4=%{y}<br>\\ube68\\uac04\\uc9d1\\ubaa8\\uae30=%{marker.size}<extra></extra>\",\"legendgroup\":\"\",\"marker\":{\"color\":\"#636efa\",\"size\":[59,19,0,443,3,5,10,22,4,130,5,6],\"sizemode\":\"area\",\"sizeref\":3.3175,\"symbol\":\"circle\"},\"mode\":\"markers\",\"name\":\"\",\"orientation\":\"v\",\"showlegend\":false,\"x\":[\"\\uacc4\\uc591\\uad6c \\uc120\\uc8fc\\uc9c0\\ub3d9\",\"\\ubd80\\ud3c9\\uad6c \\ubd80\\ud3c9\\ub3d9\",\" \\uc11c\\uad6c \\uc5f0\\ud76c\\ub3d9\",\" \\uc11c\\uad6c \\ubc31\\uc11d\\ub3d9\",\"\\uc911\\uad6c \\uc6b4\\ub0a8\\ub3d9 (\\uc601\\uc885\\ub3c4)\",\"\\uac15\\ud654 \\uc1a1\\ud574\\uba74 (\\uc22d\\ub8b0\\ub9ac)\",\"\\uac15\\ud654 \\uc1a1\\ud574\\uba74 (\\uc194\\uc815\\ub9ac)\",\"\\uac15\\ud654 \\uc120\\uc6d0\\uba74 (\\uae08\\uc6d4\\ub9ac)\",\"\\uac15\\ud654 \\uc0bc\\uc0b0\\uba74 (\\uc11d\\ubaa8\\ub9ac)\",\"\\uac15\\ud654 \\uad50\\ub3d9\\uba74 (\\ub300\\ub8e1\\ub9ac)\",\"\\uac15\\ud654 \\uac15\\ud654\\uc74d (\\ub300\\uc0b0\\ub9ac)\",\"\\uac15\\ud654 \\uac15\\ud654\\uc74d (\\uc6d4\\uacf3\\ub9ac)\"],\"xaxis\":\"x\",\"y\":[23.61428571428571,22.77142857142857,22.77142857142857,22.77142857142857,22.77142857142857,22.77142857142857,22.17142857142857,22.17142857142857,22.17142857142857,22.17142857142857,22.17142857142857,22.17142857142857],\"yaxis\":\"y\",\"type\":\"scatter\"}],\"name\":\"35\\uc8fc\"},{\"data\":[{\"hovertemplate\":\"\\uc5f0\\uc911\\uc8fc\\uc218=36\\uc8fc<br>\\uc7a5\\uc18c=%{x}<br>\\uc628\\ub3c4=%{y}<br>\\ube68\\uac04\\uc9d1\\ubaa8\\uae30=%{marker.size}<extra></extra>\",\"legendgroup\":\"\",\"marker\":{\"color\":\"#636efa\",\"size\":[29,35,0,191,6,6,10,6,5,53,0,2],\"sizemode\":\"area\",\"sizeref\":3.3175,\"symbol\":\"circle\"},\"mode\":\"markers\",\"name\":\"\",\"orientation\":\"v\",\"showlegend\":false,\"x\":[\"\\uacc4\\uc591\\uad6c \\uc120\\uc8fc\\uc9c0\\ub3d9\",\"\\ubd80\\ud3c9\\uad6c \\ubd80\\ud3c9\\ub3d9\",\" \\uc11c\\uad6c \\uc5f0\\ud76c\\ub3d9\",\" \\uc11c\\uad6c \\ubc31\\uc11d\\ub3d9\",\"\\uc911\\uad6c \\uc6b4\\ub0a8\\ub3d9 (\\uc601\\uc885\\ub3c4)\",\"\\uac15\\ud654 \\uc1a1\\ud574\\uba74 (\\uc22d\\ub8b0\\ub9ac)\",\"\\uac15\\ud654 \\uc1a1\\ud574\\uba74 (\\uc194\\uc815\\ub9ac)\",\"\\uac15\\ud654 \\uc120\\uc6d0\\uba74 (\\uae08\\uc6d4\\ub9ac)\",\"\\uac15\\ud654 \\uc0bc\\uc0b0\\uba74 (\\uc11d\\ubaa8\\ub9ac)\",\"\\uac15\\ud654 \\uad50\\ub3d9\\uba74 (\\ub300\\ub8e1\\ub9ac)\",\"\\uac15\\ud654 \\uac15\\ud654\\uc74d (\\ub300\\uc0b0\\ub9ac)\",\"\\uac15\\ud654 \\uac15\\ud654\\uc74d (\\uc6d4\\uacf3\\ub9ac)\"],\"xaxis\":\"x\",\"y\":[22.17142857142857,22.67142857142857,22.67142857142857,22.67142857142857,22.67142857142857,22.67142857142857,21.75714285714286,21.75714285714286,21.75714285714286,21.75714285714286,21.75714285714286,21.75714285714286],\"yaxis\":\"y\",\"type\":\"scatter\"}],\"name\":\"36\\uc8fc\"},{\"data\":[{\"hovertemplate\":\"\\uc5f0\\uc911\\uc8fc\\uc218=37\\uc8fc<br>\\uc7a5\\uc18c=%{x}<br>\\uc628\\ub3c4=%{y}<br>\\ube68\\uac04\\uc9d1\\ubaa8\\uae30=%{marker.size}<extra></extra>\",\"legendgroup\":\"\",\"marker\":{\"color\":\"#636efa\",\"size\":[55,27,1,190,31,0,9,15,13,65,3,1],\"sizemode\":\"area\",\"sizeref\":3.3175,\"symbol\":\"circle\"},\"mode\":\"markers\",\"name\":\"\",\"orientation\":\"v\",\"showlegend\":false,\"x\":[\"\\uacc4\\uc591\\uad6c \\uc120\\uc8fc\\uc9c0\\ub3d9\",\"\\ubd80\\ud3c9\\uad6c \\ubd80\\ud3c9\\ub3d9\",\" \\uc11c\\uad6c \\uc5f0\\ud76c\\ub3d9\",\" \\uc11c\\uad6c \\ubc31\\uc11d\\ub3d9\",\"\\uc911\\uad6c \\uc6b4\\ub0a8\\ub3d9 (\\uc601\\uc885\\ub3c4)\",\"\\uac15\\ud654 \\uc1a1\\ud574\\uba74 (\\uc22d\\ub8b0\\ub9ac)\",\"\\uac15\\ud654 \\uc1a1\\ud574\\uba74 (\\uc194\\uc815\\ub9ac)\",\"\\uac15\\ud654 \\uc120\\uc6d0\\uba74 (\\uae08\\uc6d4\\ub9ac)\",\"\\uac15\\ud654 \\uc0bc\\uc0b0\\uba74 (\\uc11d\\ubaa8\\ub9ac)\",\"\\uac15\\ud654 \\uad50\\ub3d9\\uba74 (\\ub300\\ub8e1\\ub9ac)\",\"\\uac15\\ud654 \\uac15\\ud654\\uc74d (\\ub300\\uc0b0\\ub9ac)\",\"\\uac15\\ud654 \\uac15\\ud654\\uc74d (\\uc6d4\\uacf3\\ub9ac)\"],\"xaxis\":\"x\",\"y\":[21.75714285714286,24.04285714285714,24.04285714285714,24.04285714285714,24.04285714285714,24.04285714285714,22.057142857142853,22.057142857142853,22.057142857142853,22.057142857142853,22.057142857142853,22.057142857142853],\"yaxis\":\"y\",\"type\":\"scatter\"}],\"name\":\"37\\uc8fc\"},{\"data\":[{\"hovertemplate\":\"\\uc5f0\\uc911\\uc8fc\\uc218=38\\uc8fc<br>\\uc7a5\\uc18c=%{x}<br>\\uc628\\ub3c4=%{y}<br>\\ube68\\uac04\\uc9d1\\ubaa8\\uae30=%{marker.size}<extra></extra>\",\"legendgroup\":\"\",\"marker\":{\"color\":\"#636efa\",\"size\":[52,61,1,152,12,2,3,9,4,64,3,7],\"sizemode\":\"area\",\"sizeref\":3.3175,\"symbol\":\"circle\"},\"mode\":\"markers\",\"name\":\"\",\"orientation\":\"v\",\"showlegend\":false,\"x\":[\"\\uacc4\\uc591\\uad6c \\uc120\\uc8fc\\uc9c0\\ub3d9\",\"\\ubd80\\ud3c9\\uad6c \\ubd80\\ud3c9\\ub3d9\",\" \\uc11c\\uad6c \\uc5f0\\ud76c\\ub3d9\",\" \\uc11c\\uad6c \\ubc31\\uc11d\\ub3d9\",\"\\uc911\\uad6c \\uc6b4\\ub0a8\\ub3d9 (\\uc601\\uc885\\ub3c4)\",\"\\uac15\\ud654 \\uc1a1\\ud574\\uba74 (\\uc22d\\ub8b0\\ub9ac)\",\"\\uac15\\ud654 \\uc1a1\\ud574\\uba74 (\\uc194\\uc815\\ub9ac)\",\"\\uac15\\ud654 \\uc120\\uc6d0\\uba74 (\\uae08\\uc6d4\\ub9ac)\",\"\\uac15\\ud654 \\uc0bc\\uc0b0\\uba74 (\\uc11d\\ubaa8\\ub9ac)\",\"\\uac15\\ud654 \\uad50\\ub3d9\\uba74 (\\ub300\\ub8e1\\ub9ac)\",\"\\uac15\\ud654 \\uac15\\ud654\\uc74d (\\ub300\\uc0b0\\ub9ac)\",\"\\uac15\\ud654 \\uac15\\ud654\\uc74d (\\uc6d4\\uacf3\\ub9ac)\"],\"xaxis\":\"x\",\"y\":[22.057142857142853,23.08571428571429,23.08571428571429,23.08571428571429,23.08571428571429,23.08571428571429,21.814285714285717,21.814285714285717,21.814285714285717,21.814285714285717,21.814285714285717,21.814285714285717],\"yaxis\":\"y\",\"type\":\"scatter\"}],\"name\":\"38\\uc8fc\"},{\"data\":[{\"hovertemplate\":\"\\uc5f0\\uc911\\uc8fc\\uc218=39\\uc8fc<br>\\uc7a5\\uc18c=%{x}<br>\\uc628\\ub3c4=%{y}<br>\\ube68\\uac04\\uc9d1\\ubaa8\\uae30=%{marker.size}<extra></extra>\",\"legendgroup\":\"\",\"marker\":{\"color\":\"#636efa\",\"size\":[19,60,2,37,5,3,7,5,0,51,3,0],\"sizemode\":\"area\",\"sizeref\":3.3175,\"symbol\":\"circle\"},\"mode\":\"markers\",\"name\":\"\",\"orientation\":\"v\",\"showlegend\":false,\"x\":[\"\\uacc4\\uc591\\uad6c \\uc120\\uc8fc\\uc9c0\\ub3d9\",\"\\ubd80\\ud3c9\\uad6c \\ubd80\\ud3c9\\ub3d9\",\" \\uc11c\\uad6c \\uc5f0\\ud76c\\ub3d9\",\" \\uc11c\\uad6c \\ubc31\\uc11d\\ub3d9\",\"\\uc911\\uad6c \\uc6b4\\ub0a8\\ub3d9 (\\uc601\\uc885\\ub3c4)\",\"\\uac15\\ud654 \\uc1a1\\ud574\\uba74 (\\uc22d\\ub8b0\\ub9ac)\",\"\\uac15\\ud654 \\uc1a1\\ud574\\uba74 (\\uc194\\uc815\\ub9ac)\",\"\\uac15\\ud654 \\uc120\\uc6d0\\uba74 (\\uae08\\uc6d4\\ub9ac)\",\"\\uac15\\ud654 \\uc0bc\\uc0b0\\uba74 (\\uc11d\\ubaa8\\ub9ac)\",\"\\uac15\\ud654 \\uad50\\ub3d9\\uba74 (\\ub300\\ub8e1\\ub9ac)\",\"\\uac15\\ud654 \\uac15\\ud654\\uc74d (\\ub300\\uc0b0\\ub9ac)\",\"\\uac15\\ud654 \\uac15\\ud654\\uc74d (\\uc6d4\\uacf3\\ub9ac)\"],\"xaxis\":\"x\",\"y\":[21.814285714285717,21.671428571428574,21.671428571428574,21.671428571428574,21.671428571428574,21.671428571428574,20.0,20.0,20.0,20.0,20.0,20.0],\"yaxis\":\"y\",\"type\":\"scatter\"}],\"name\":\"39\\uc8fc\"},{\"data\":[{\"hovertemplate\":\"\\uc5f0\\uc911\\uc8fc\\uc218=40\\uc8fc<br>\\uc7a5\\uc18c=%{x}<br>\\uc628\\ub3c4=%{y}<br>\\ube68\\uac04\\uc9d1\\ubaa8\\uae30=%{marker.size}<extra></extra>\",\"legendgroup\":\"\",\"marker\":{\"color\":\"#636efa\",\"size\":[18,14,2,37,23,3,3,5,0,12,5,8],\"sizemode\":\"area\",\"sizeref\":3.3175,\"symbol\":\"circle\"},\"mode\":\"markers\",\"name\":\"\",\"orientation\":\"v\",\"showlegend\":false,\"x\":[\"\\uacc4\\uc591\\uad6c \\uc120\\uc8fc\\uc9c0\\ub3d9\",\"\\ubd80\\ud3c9\\uad6c \\ubd80\\ud3c9\\ub3d9\",\" \\uc11c\\uad6c \\uc5f0\\ud76c\\ub3d9\",\" \\uc11c\\uad6c \\ubc31\\uc11d\\ub3d9\",\"\\uc911\\uad6c \\uc6b4\\ub0a8\\ub3d9 (\\uc601\\uc885\\ub3c4)\",\"\\uac15\\ud654 \\uc1a1\\ud574\\uba74 (\\uc22d\\ub8b0\\ub9ac)\",\"\\uac15\\ud654 \\uc1a1\\ud574\\uba74 (\\uc194\\uc815\\ub9ac)\",\"\\uac15\\ud654 \\uc120\\uc6d0\\uba74 (\\uae08\\uc6d4\\ub9ac)\",\"\\uac15\\ud654 \\uc0bc\\uc0b0\\uba74 (\\uc11d\\ubaa8\\ub9ac)\",\"\\uac15\\ud654 \\uad50\\ub3d9\\uba74 (\\ub300\\ub8e1\\ub9ac)\",\"\\uac15\\ud654 \\uac15\\ud654\\uc74d (\\ub300\\uc0b0\\ub9ac)\",\"\\uac15\\ud654 \\uac15\\ud654\\uc74d (\\uc6d4\\uacf3\\ub9ac)\"],\"xaxis\":\"x\",\"y\":[20.0,21.757142857142856,21.757142857142856,21.757142857142856,21.757142857142856,21.757142857142856,20.300000000000004,20.300000000000004,20.300000000000004,20.300000000000004,20.300000000000004,20.300000000000004],\"yaxis\":\"y\",\"type\":\"scatter\"}],\"name\":\"40\\uc8fc\"},{\"data\":[{\"hovertemplate\":\"\\uc5f0\\uc911\\uc8fc\\uc218=41\\uc8fc<br>\\uc7a5\\uc18c=%{x}<br>\\uc628\\ub3c4=%{y}<br>\\ube68\\uac04\\uc9d1\\ubaa8\\uae30=%{marker.size}<extra></extra>\",\"legendgroup\":\"\",\"marker\":{\"color\":\"#636efa\",\"size\":[15,38,1,112,32,1,1,3,1,8,0,1],\"sizemode\":\"area\",\"sizeref\":3.3175,\"symbol\":\"circle\"},\"mode\":\"markers\",\"name\":\"\",\"orientation\":\"v\",\"showlegend\":false,\"x\":[\"\\uacc4\\uc591\\uad6c \\uc120\\uc8fc\\uc9c0\\ub3d9\",\"\\ubd80\\ud3c9\\uad6c \\ubd80\\ud3c9\\ub3d9\",\" \\uc11c\\uad6c \\uc5f0\\ud76c\\ub3d9\",\" \\uc11c\\uad6c \\ubc31\\uc11d\\ub3d9\",\"\\uc911\\uad6c \\uc6b4\\ub0a8\\ub3d9 (\\uc601\\uc885\\ub3c4)\",\"\\uac15\\ud654 \\uc1a1\\ud574\\uba74 (\\uc22d\\ub8b0\\ub9ac)\",\"\\uac15\\ud654 \\uc1a1\\ud574\\uba74 (\\uc194\\uc815\\ub9ac)\",\"\\uac15\\ud654 \\uc120\\uc6d0\\uba74 (\\uae08\\uc6d4\\ub9ac)\",\"\\uac15\\ud654 \\uc0bc\\uc0b0\\uba74 (\\uc11d\\ubaa8\\ub9ac)\",\"\\uac15\\ud654 \\uad50\\ub3d9\\uba74 (\\ub300\\ub8e1\\ub9ac)\",\"\\uac15\\ud654 \\uac15\\ud654\\uc74d (\\ub300\\uc0b0\\ub9ac)\",\"\\uac15\\ud654 \\uac15\\ud654\\uc74d (\\uc6d4\\uacf3\\ub9ac)\"],\"xaxis\":\"x\",\"y\":[20.300000000000004,18.942857142857143,18.942857142857143,18.942857142857143,18.942857142857143,18.942857142857143,17.800000000000004,17.800000000000004,17.800000000000004,17.800000000000004,17.800000000000004,17.800000000000004],\"yaxis\":\"y\",\"type\":\"scatter\"}],\"name\":\"41\\uc8fc\"},{\"data\":[{\"hovertemplate\":\"\\uc5f0\\uc911\\uc8fc\\uc218=42\\uc8fc<br>\\uc7a5\\uc18c=%{x}<br>\\uc628\\ub3c4=%{y}<br>\\ube68\\uac04\\uc9d1\\ubaa8\\uae30=%{marker.size}<extra></extra>\",\"legendgroup\":\"\",\"marker\":{\"color\":\"#636efa\",\"size\":[11,24,3,10,27,0,0,2,0,5,0,0],\"sizemode\":\"area\",\"sizeref\":3.3175,\"symbol\":\"circle\"},\"mode\":\"markers\",\"name\":\"\",\"orientation\":\"v\",\"showlegend\":false,\"x\":[\"\\uacc4\\uc591\\uad6c \\uc120\\uc8fc\\uc9c0\\ub3d9\",\"\\ubd80\\ud3c9\\uad6c \\ubd80\\ud3c9\\ub3d9\",\" \\uc11c\\uad6c \\uc5f0\\ud76c\\ub3d9\",\" \\uc11c\\uad6c \\ubc31\\uc11d\\ub3d9\",\"\\uc911\\uad6c \\uc6b4\\ub0a8\\ub3d9 (\\uc601\\uc885\\ub3c4)\",\"\\uac15\\ud654 \\uc1a1\\ud574\\uba74 (\\uc22d\\ub8b0\\ub9ac)\",\"\\uac15\\ud654 \\uc1a1\\ud574\\uba74 (\\uc194\\uc815\\ub9ac)\",\"\\uac15\\ud654 \\uc120\\uc6d0\\uba74 (\\uae08\\uc6d4\\ub9ac)\",\"\\uac15\\ud654 \\uc0bc\\uc0b0\\uba74 (\\uc11d\\ubaa8\\ub9ac)\",\"\\uac15\\ud654 \\uad50\\ub3d9\\uba74 (\\ub300\\ub8e1\\ub9ac)\",\"\\uac15\\ud654 \\uac15\\ud654\\uc74d (\\ub300\\uc0b0\\ub9ac)\",\"\\uac15\\ud654 \\uac15\\ud654\\uc74d (\\uc6d4\\uacf3\\ub9ac)\"],\"xaxis\":\"x\",\"y\":[17.800000000000004,12.228571428571428,12.228571428571428,12.228571428571428,12.228571428571428,12.228571428571428,10.914285714285713,10.914285714285713,10.914285714285713,10.914285714285713,10.914285714285713,10.914285714285713],\"yaxis\":\"y\",\"type\":\"scatter\"}],\"name\":\"42\\uc8fc\"},{\"data\":[{\"hovertemplate\":\"\\uc5f0\\uc911\\uc8fc\\uc218=43\\uc8fc<br>\\uc7a5\\uc18c=%{x}<br>\\uc628\\ub3c4=%{y}<br>\\ube68\\uac04\\uc9d1\\ubaa8\\uae30=%{marker.size}<extra></extra>\",\"legendgroup\":\"\",\"marker\":{\"color\":\"#636efa\",\"size\":[32,42,2,4,30,10,0,3,9,23,3,0],\"sizemode\":\"area\",\"sizeref\":3.3175,\"symbol\":\"circle\"},\"mode\":\"markers\",\"name\":\"\",\"orientation\":\"v\",\"showlegend\":false,\"x\":[\"\\uacc4\\uc591\\uad6c \\uc120\\uc8fc\\uc9c0\\ub3d9\",\"\\ubd80\\ud3c9\\uad6c \\ubd80\\ud3c9\\ub3d9\",\" \\uc11c\\uad6c \\uc5f0\\ud76c\\ub3d9\",\" \\uc11c\\uad6c \\ubc31\\uc11d\\ub3d9\",\"\\uc911\\uad6c \\uc6b4\\ub0a8\\ub3d9 (\\uc601\\uc885\\ub3c4)\",\"\\uac15\\ud654 \\uc1a1\\ud574\\uba74 (\\uc22d\\ub8b0\\ub9ac)\",\"\\uac15\\ud654 \\uc1a1\\ud574\\uba74 (\\uc194\\uc815\\ub9ac)\",\"\\uac15\\ud654 \\uc120\\uc6d0\\uba74 (\\uae08\\uc6d4\\ub9ac)\",\"\\uac15\\ud654 \\uc0bc\\uc0b0\\uba74 (\\uc11d\\ubaa8\\ub9ac)\",\"\\uac15\\ud654 \\uad50\\ub3d9\\uba74 (\\ub300\\ub8e1\\ub9ac)\",\"\\uac15\\ud654 \\uac15\\ud654\\uc74d (\\ub300\\uc0b0\\ub9ac)\",\"\\uac15\\ud654 \\uac15\\ud654\\uc74d (\\uc6d4\\uacf3\\ub9ac)\"],\"xaxis\":\"x\",\"y\":[10.914285714285713,12.6,12.6,12.6,12.6,12.6,10.242857142857144,10.242857142857144,10.242857142857144,10.242857142857144,10.242857142857144,10.242857142857144],\"yaxis\":\"y\",\"type\":\"scatter\"}],\"name\":\"43\\uc8fc\"},{\"data\":[{\"hovertemplate\":\"\\uc5f0\\uc911\\uc8fc\\uc218=44\\uc8fc<br>\\uc7a5\\uc18c=%{x}<br>\\uc628\\ub3c4=%{y}<br>\\ube68\\uac04\\uc9d1\\ubaa8\\uae30=%{marker.size}<extra></extra>\",\"legendgroup\":\"\",\"marker\":{\"color\":\"#636efa\",\"size\":[143,88,5,21,51,3,4,1,0,42,3,2],\"sizemode\":\"area\",\"sizeref\":3.3175,\"symbol\":\"circle\"},\"mode\":\"markers\",\"name\":\"\",\"orientation\":\"v\",\"showlegend\":false,\"x\":[\"\\uacc4\\uc591\\uad6c \\uc120\\uc8fc\\uc9c0\\ub3d9\",\"\\ubd80\\ud3c9\\uad6c \\ubd80\\ud3c9\\ub3d9\",\" \\uc11c\\uad6c \\uc5f0\\ud76c\\ub3d9\",\" \\uc11c\\uad6c \\ubc31\\uc11d\\ub3d9\",\"\\uc911\\uad6c \\uc6b4\\ub0a8\\ub3d9 (\\uc601\\uc885\\ub3c4)\",\"\\uac15\\ud654 \\uc1a1\\ud574\\uba74 (\\uc22d\\ub8b0\\ub9ac)\",\"\\uac15\\ud654 \\uc1a1\\ud574\\uba74 (\\uc194\\uc815\\ub9ac)\",\"\\uac15\\ud654 \\uc120\\uc6d0\\uba74 (\\uae08\\uc6d4\\ub9ac)\",\"\\uac15\\ud654 \\uc0bc\\uc0b0\\uba74 (\\uc11d\\ubaa8\\ub9ac)\",\"\\uac15\\ud654 \\uad50\\ub3d9\\uba74 (\\ub300\\ub8e1\\ub9ac)\",\"\\uac15\\ud654 \\uac15\\ud654\\uc74d (\\ub300\\uc0b0\\ub9ac)\",\"\\uac15\\ud654 \\uac15\\ud654\\uc74d (\\uc6d4\\uacf3\\ub9ac)\"],\"xaxis\":\"x\",\"y\":[10.242857142857144,13.757142857142856,13.757142857142856,13.757142857142856,13.757142857142856,13.757142857142856,12.250000000000002,12.250000000000002,12.250000000000002,12.250000000000002,12.250000000000002,12.250000000000002],\"yaxis\":\"y\",\"type\":\"scatter\"}],\"name\":\"44\\uc8fc\"}]);\n",
              "                        }).then(function(){\n",
              "                            \n",
              "var gd = document.getElementById('24f19080-b30c-44df-8229-5af8c2f46a39');\n",
              "var x = new MutationObserver(function (mutations, observer) {{\n",
              "        var display = window.getComputedStyle(gd).display;\n",
              "        if (!display || display === 'none') {{\n",
              "            console.log([gd, 'removed!']);\n",
              "            Plotly.purge(gd);\n",
              "            observer.disconnect();\n",
              "        }}\n",
              "}});\n",
              "\n",
              "// Listen for the removal of the full notebook cells\n",
              "var notebookContainer = gd.closest('#notebook-container');\n",
              "if (notebookContainer) {{\n",
              "    x.observe(notebookContainer, {childList: true});\n",
              "}}\n",
              "\n",
              "// Listen for the clearing of the current output cell\n",
              "var outputEl = gd.closest('.output');\n",
              "if (outputEl) {{\n",
              "    x.observe(outputEl, {childList: true});\n",
              "}}\n",
              "\n",
              "                        })                };                            </script>        </div>\n",
              "</body>\n",
              "</html>"
            ]
          },
          "metadata": {}
        }
      ]
    },
    {
      "cell_type": "code",
      "source": [
        "df.info() #df의 정보\n",
        "df.dtypes #df의 타입\n",
        "df.head() #df의 데이터확인\n"
      ],
      "metadata": {
        "colab": {
          "base_uri": "https://localhost:8080/",
          "height": 893
        },
        "id": "xxzJuVn_mCiF",
        "outputId": "81b0a84a-cf57-4102-e13e-7d178689808a"
      },
      "execution_count": 31,
      "outputs": [
        {
          "output_type": "stream",
          "name": "stdout",
          "text": [
            "<class 'pandas.core.frame.DataFrame'>\n",
            "RangeIndex: 371 entries, 0 to 370\n",
            "Data columns (total 21 columns):\n",
            " #   Column   Non-Null Count  Dtype  \n",
            "---  ------   --------------  -----  \n",
            " 0   월        371 non-null    int64  \n",
            " 1   주        371 non-null    object \n",
            " 2   연중주수     371 non-null    object \n",
            " 3   장소       371 non-null    object \n",
            " 4   얼룩날개모기류  371 non-null    int64  \n",
            " 5   이나토미집모기  371 non-null    int64  \n",
            " 6   반점날개집모기  371 non-null    int64  \n",
            " 7   동양집모기    371 non-null    int64  \n",
            " 8   빨간집모기    371 non-null    int64  \n",
            " 9   작은빨간집모기  371 non-null    int64  \n",
            " 10  줄다리집모기   371 non-null    int64  \n",
            " 11  노랑늪모기    371 non-null    int64  \n",
            " 12  반점날개늪모기  371 non-null    int64  \n",
            " 13  흰줄숲모기    371 non-null    int64  \n",
            " 14  금빛숲모기    371 non-null    int64  \n",
            " 15  한국숲모기    371 non-null    int64  \n",
            " 16  토고숲모기    371 non-null    int64  \n",
            " 17  등줄숲모기    371 non-null    int64  \n",
            " 18  큰검정들모기   371 non-null    int64  \n",
            " 19  금빛어깨숲모기  371 non-null    int64  \n",
            " 20  온도       371 non-null    float64\n",
            "dtypes: float64(1), int64(17), object(3)\n",
            "memory usage: 61.0+ KB\n"
          ]
        },
        {
          "output_type": "execute_result",
          "data": {
            "text/plain": [
              "   월   주 연중주수            장소  얼룩날개모기류  이나토미집모기  반점날개집모기  동양집모기  빨간집모기  작은빨간집모기  \\\n",
              "0  4  1주  14주      계양구 선주지동        0        0        0      0     16        0   \n",
              "1  4  1주  14주       부평구 부평동        0        0        0      0      7        0   \n",
              "2  4  1주  14주        서구 연희동        0        0        0      0      2        0   \n",
              "3  4  1주  14주        서구 백석동        0        0        0      0     11        0   \n",
              "4  4  1주  14주  중구 운남동 (영종도)        1        0        0      0     15        0   \n",
              "\n",
              "   ...  노랑늪모기  반점날개늪모기  흰줄숲모기  금빛숲모기  한국숲모기  토고숲모기  등줄숲모기  큰검정들모기  금빛어깨숲모기  \\\n",
              "0  ...      0        0      0      0      0      0      0       0        0   \n",
              "1  ...      0        0      0      0      0      0      0       0        0   \n",
              "2  ...      0        0      0      0      0      0      0       0        0   \n",
              "3  ...      0        0      0      0      0      0      0       0        0   \n",
              "4  ...      0        0      0      0      0      0      0       0        0   \n",
              "\n",
              "     온도  \n",
              "0  13.6  \n",
              "1  13.6  \n",
              "2  13.6  \n",
              "3  13.6  \n",
              "4  13.6  \n",
              "\n",
              "[5 rows x 21 columns]"
            ],
            "text/html": [
              "\n",
              "  <div id=\"df-9225c800-7372-4cbc-9018-8cbbb6b8c270\">\n",
              "    <div class=\"colab-df-container\">\n",
              "      <div>\n",
              "<style scoped>\n",
              "    .dataframe tbody tr th:only-of-type {\n",
              "        vertical-align: middle;\n",
              "    }\n",
              "\n",
              "    .dataframe tbody tr th {\n",
              "        vertical-align: top;\n",
              "    }\n",
              "\n",
              "    .dataframe thead th {\n",
              "        text-align: right;\n",
              "    }\n",
              "</style>\n",
              "<table border=\"1\" class=\"dataframe\">\n",
              "  <thead>\n",
              "    <tr style=\"text-align: right;\">\n",
              "      <th></th>\n",
              "      <th>월</th>\n",
              "      <th>주</th>\n",
              "      <th>연중주수</th>\n",
              "      <th>장소</th>\n",
              "      <th>얼룩날개모기류</th>\n",
              "      <th>이나토미집모기</th>\n",
              "      <th>반점날개집모기</th>\n",
              "      <th>동양집모기</th>\n",
              "      <th>빨간집모기</th>\n",
              "      <th>작은빨간집모기</th>\n",
              "      <th>...</th>\n",
              "      <th>노랑늪모기</th>\n",
              "      <th>반점날개늪모기</th>\n",
              "      <th>흰줄숲모기</th>\n",
              "      <th>금빛숲모기</th>\n",
              "      <th>한국숲모기</th>\n",
              "      <th>토고숲모기</th>\n",
              "      <th>등줄숲모기</th>\n",
              "      <th>큰검정들모기</th>\n",
              "      <th>금빛어깨숲모기</th>\n",
              "      <th>온도</th>\n",
              "    </tr>\n",
              "  </thead>\n",
              "  <tbody>\n",
              "    <tr>\n",
              "      <th>0</th>\n",
              "      <td>4</td>\n",
              "      <td>1주</td>\n",
              "      <td>14주</td>\n",
              "      <td>계양구 선주지동</td>\n",
              "      <td>0</td>\n",
              "      <td>0</td>\n",
              "      <td>0</td>\n",
              "      <td>0</td>\n",
              "      <td>16</td>\n",
              "      <td>0</td>\n",
              "      <td>...</td>\n",
              "      <td>0</td>\n",
              "      <td>0</td>\n",
              "      <td>0</td>\n",
              "      <td>0</td>\n",
              "      <td>0</td>\n",
              "      <td>0</td>\n",
              "      <td>0</td>\n",
              "      <td>0</td>\n",
              "      <td>0</td>\n",
              "      <td>13.6</td>\n",
              "    </tr>\n",
              "    <tr>\n",
              "      <th>1</th>\n",
              "      <td>4</td>\n",
              "      <td>1주</td>\n",
              "      <td>14주</td>\n",
              "      <td>부평구 부평동</td>\n",
              "      <td>0</td>\n",
              "      <td>0</td>\n",
              "      <td>0</td>\n",
              "      <td>0</td>\n",
              "      <td>7</td>\n",
              "      <td>0</td>\n",
              "      <td>...</td>\n",
              "      <td>0</td>\n",
              "      <td>0</td>\n",
              "      <td>0</td>\n",
              "      <td>0</td>\n",
              "      <td>0</td>\n",
              "      <td>0</td>\n",
              "      <td>0</td>\n",
              "      <td>0</td>\n",
              "      <td>0</td>\n",
              "      <td>13.6</td>\n",
              "    </tr>\n",
              "    <tr>\n",
              "      <th>2</th>\n",
              "      <td>4</td>\n",
              "      <td>1주</td>\n",
              "      <td>14주</td>\n",
              "      <td>서구 연희동</td>\n",
              "      <td>0</td>\n",
              "      <td>0</td>\n",
              "      <td>0</td>\n",
              "      <td>0</td>\n",
              "      <td>2</td>\n",
              "      <td>0</td>\n",
              "      <td>...</td>\n",
              "      <td>0</td>\n",
              "      <td>0</td>\n",
              "      <td>0</td>\n",
              "      <td>0</td>\n",
              "      <td>0</td>\n",
              "      <td>0</td>\n",
              "      <td>0</td>\n",
              "      <td>0</td>\n",
              "      <td>0</td>\n",
              "      <td>13.6</td>\n",
              "    </tr>\n",
              "    <tr>\n",
              "      <th>3</th>\n",
              "      <td>4</td>\n",
              "      <td>1주</td>\n",
              "      <td>14주</td>\n",
              "      <td>서구 백석동</td>\n",
              "      <td>0</td>\n",
              "      <td>0</td>\n",
              "      <td>0</td>\n",
              "      <td>0</td>\n",
              "      <td>11</td>\n",
              "      <td>0</td>\n",
              "      <td>...</td>\n",
              "      <td>0</td>\n",
              "      <td>0</td>\n",
              "      <td>0</td>\n",
              "      <td>0</td>\n",
              "      <td>0</td>\n",
              "      <td>0</td>\n",
              "      <td>0</td>\n",
              "      <td>0</td>\n",
              "      <td>0</td>\n",
              "      <td>13.6</td>\n",
              "    </tr>\n",
              "    <tr>\n",
              "      <th>4</th>\n",
              "      <td>4</td>\n",
              "      <td>1주</td>\n",
              "      <td>14주</td>\n",
              "      <td>중구 운남동 (영종도)</td>\n",
              "      <td>1</td>\n",
              "      <td>0</td>\n",
              "      <td>0</td>\n",
              "      <td>0</td>\n",
              "      <td>15</td>\n",
              "      <td>0</td>\n",
              "      <td>...</td>\n",
              "      <td>0</td>\n",
              "      <td>0</td>\n",
              "      <td>0</td>\n",
              "      <td>0</td>\n",
              "      <td>0</td>\n",
              "      <td>0</td>\n",
              "      <td>0</td>\n",
              "      <td>0</td>\n",
              "      <td>0</td>\n",
              "      <td>13.6</td>\n",
              "    </tr>\n",
              "  </tbody>\n",
              "</table>\n",
              "<p>5 rows × 21 columns</p>\n",
              "</div>\n",
              "      <button class=\"colab-df-convert\" onclick=\"convertToInteractive('df-9225c800-7372-4cbc-9018-8cbbb6b8c270')\"\n",
              "              title=\"Convert this dataframe to an interactive table.\"\n",
              "              style=\"display:none;\">\n",
              "        \n",
              "  <svg xmlns=\"http://www.w3.org/2000/svg\" height=\"24px\"viewBox=\"0 0 24 24\"\n",
              "       width=\"24px\">\n",
              "    <path d=\"M0 0h24v24H0V0z\" fill=\"none\"/>\n",
              "    <path d=\"M18.56 5.44l.94 2.06.94-2.06 2.06-.94-2.06-.94-.94-2.06-.94 2.06-2.06.94zm-11 1L8.5 8.5l.94-2.06 2.06-.94-2.06-.94L8.5 2.5l-.94 2.06-2.06.94zm10 10l.94 2.06.94-2.06 2.06-.94-2.06-.94-.94-2.06-.94 2.06-2.06.94z\"/><path d=\"M17.41 7.96l-1.37-1.37c-.4-.4-.92-.59-1.43-.59-.52 0-1.04.2-1.43.59L10.3 9.45l-7.72 7.72c-.78.78-.78 2.05 0 2.83L4 21.41c.39.39.9.59 1.41.59.51 0 1.02-.2 1.41-.59l7.78-7.78 2.81-2.81c.8-.78.8-2.07 0-2.86zM5.41 20L4 18.59l7.72-7.72 1.47 1.35L5.41 20z\"/>\n",
              "  </svg>\n",
              "      </button>\n",
              "      \n",
              "  <style>\n",
              "    .colab-df-container {\n",
              "      display:flex;\n",
              "      flex-wrap:wrap;\n",
              "      gap: 12px;\n",
              "    }\n",
              "\n",
              "    .colab-df-convert {\n",
              "      background-color: #E8F0FE;\n",
              "      border: none;\n",
              "      border-radius: 50%;\n",
              "      cursor: pointer;\n",
              "      display: none;\n",
              "      fill: #1967D2;\n",
              "      height: 32px;\n",
              "      padding: 0 0 0 0;\n",
              "      width: 32px;\n",
              "    }\n",
              "\n",
              "    .colab-df-convert:hover {\n",
              "      background-color: #E2EBFA;\n",
              "      box-shadow: 0px 1px 2px rgba(60, 64, 67, 0.3), 0px 1px 3px 1px rgba(60, 64, 67, 0.15);\n",
              "      fill: #174EA6;\n",
              "    }\n",
              "\n",
              "    [theme=dark] .colab-df-convert {\n",
              "      background-color: #3B4455;\n",
              "      fill: #D2E3FC;\n",
              "    }\n",
              "\n",
              "    [theme=dark] .colab-df-convert:hover {\n",
              "      background-color: #434B5C;\n",
              "      box-shadow: 0px 1px 3px 1px rgba(0, 0, 0, 0.15);\n",
              "      filter: drop-shadow(0px 1px 2px rgba(0, 0, 0, 0.3));\n",
              "      fill: #FFFFFF;\n",
              "    }\n",
              "  </style>\n",
              "\n",
              "      <script>\n",
              "        const buttonEl =\n",
              "          document.querySelector('#df-9225c800-7372-4cbc-9018-8cbbb6b8c270 button.colab-df-convert');\n",
              "        buttonEl.style.display =\n",
              "          google.colab.kernel.accessAllowed ? 'block' : 'none';\n",
              "\n",
              "        async function convertToInteractive(key) {\n",
              "          const element = document.querySelector('#df-9225c800-7372-4cbc-9018-8cbbb6b8c270');\n",
              "          const dataTable =\n",
              "            await google.colab.kernel.invokeFunction('convertToInteractive',\n",
              "                                                     [key], {});\n",
              "          if (!dataTable) return;\n",
              "\n",
              "          const docLinkHtml = 'Like what you see? Visit the ' +\n",
              "            '<a target=\"_blank\" href=https://colab.research.google.com/notebooks/data_table.ipynb>data table notebook</a>'\n",
              "            + ' to learn more about interactive tables.';\n",
              "          element.innerHTML = '';\n",
              "          dataTable['output_type'] = 'display_data';\n",
              "          await google.colab.output.renderOutput(dataTable, element);\n",
              "          const docLink = document.createElement('div');\n",
              "          docLink.innerHTML = docLinkHtml;\n",
              "          element.appendChild(docLink);\n",
              "        }\n",
              "      </script>\n",
              "    </div>\n",
              "  </div>\n",
              "  "
            ]
          },
          "metadata": {},
          "execution_count": 31
        }
      ]
    },
    {
      "cell_type": "markdown",
      "source": [
        "온도에 따른 모기 밀집도 예측 지역, 모기 종류에 따른 값을 x값으로 넣고 온도 값을 넣어서 학습 다음에는 테스트 학습셋 사용-> 교차 검증을 통해 예측값 정확하게 만든다"
      ],
      "metadata": {
        "id": "vT2A7zcE3g2Q"
      }
    },
    {
      "cell_type": "code",
      "source": [
        "import tensorflow as tf\n",
        "from sklearn import linear_model\n",
        "\n",
        "reg = linear_model.LinearRegression()\n",
        "print(Text1)\n",
        "print(\"계양구 선주지동, 부평구 부평동, 서구 연희동, 서구 백석동, 중구 운남동(영종도)\")\n",
        "print(\"강화 송해면(숭뢰리), 강화 송해면(솔정리), 강화 선원면(금월리), 강화 삼산면(석모리)\")\n",
        "print(\"강화 교동면(대룡리), 강화 강화읍(대산리), 강화 강화읍(월곳리)\")\n",
        "Text3 = input(\"지역을 입력하세요: \")\n",
        "#y= 밀집도 x = 온도\n",
        "grouped=df.groupby(['장소'])\n",
        "g1=grouped.get_group(Text3)[Text1]\n",
        "g2=grouped.get_group(Text3)['온도']\n",
        "x=np.array(g2).reshape(31,1) #온도\n",
        "y=np.array(g1) #밀집도\n",
        "\n",
        "#학습\n",
        "reg.fit(x,y)\n",
        "#예측값\n",
        "print('선형 회귀모델: ',Text2, '℃ 일때 밀집도 예측: ',reg.predict([[Text2]]))\n",
        "\n",
        "# 학습 데이터와 y 값을 산포도로 그린다. \n",
        "plt.scatter(x, y, color='black')\n",
        "plt.xlabel('온도(℃)')\n",
        "plt.ylabel('밀집도')\n",
        "\n",
        "# 학습 데이터를 입력으로 하여 예측값을 계산한다.\n",
        "y_pred = reg.predict(x)\n",
        "\n",
        "# 학습 데이터와 예측값으로 선그래프로 그린다. \n",
        "# 계산된 기울기와 y 절편을 가지는 직선이 그려진다. \n",
        "plt.plot(x, y_pred, color='blue', linewidth=3)\t\t\n",
        "plt.show()"
      ],
      "metadata": {
        "colab": {
          "base_uri": "https://localhost:8080/",
          "height": 388
        },
        "id": "5AYttzolvx14",
        "outputId": "f7e3caa0-f966-4ce4-dce0-3390730c1f71"
      },
      "execution_count": null,
      "outputs": [
        {
          "output_type": "stream",
          "name": "stdout",
          "text": [
            "빨간집모기\n",
            "계양구 선주지동, 부평구 부평동, 서구 연희동, 서구 백석동, 중구 운남동(영종도)\n",
            "강화 송해면(숭뢰리), 강화 송해면(솔정리), 강화 선원면(금월리), 강화 삼산면(석모리)\n",
            "강화 교동면(대룡리), 강화 강화읍(대산리), 강화 강화읍(월곳리)\n",
            "지역을 입력하세요: 계양구 선주지동\n",
            "선형 회귀모델:  26 ℃ 일때 밀집도 예측:  [78.18490953]\n"
          ]
        },
        {
          "output_type": "display_data",
          "data": {
            "text/plain": [
              "<Figure size 432x288 with 1 Axes>"
            ],
            "image/png": "[encoded data removed]"
          },
          "metadata": {
            "needs_background": "light"
          }
        }
      ]
    },
    {
      "cell_type": "markdown",
      "source": [
        "학습셋과 테스트셋 사용"
      ],
      "metadata": {
        "id": "8f9i8U80De-H"
      }
    },
    {
      "cell_type": "code",
      "source": [
        "import tensorflow as tf\n",
        "from tensorflow.keras.models import Sequential\n",
        "from tensorflow.keras.layers import Dense\n",
        "from sklearn import linear_model\n",
        "import numpy as np\n",
        "from sklearn.model_selection import train_test_split\n",
        "\n",
        "reg = linear_model.LinearRegression()\n",
        "print(Text1)\n",
        "\n",
        "#x= 온도 y = 밀집도\n",
        "grouped=df.groupby(['장소'])\n",
        "g1=grouped.get_group(Text3)[Text1]\n",
        "#.drop(['온도','월','주','연중주수', '장소'], axis=1)\n",
        "g2=grouped.get_group(Text3)['온도']\n",
        "y=np.array(g1)\n",
        "x=np.array(g2).reshape(31,1)\n",
        "\n",
        "#학습셋과 테스트셋 구분\n",
        "X_train, X_test, Y_train, Y_test = train_test_split(x,y,test_size=0.3)\n",
        "\n",
        "\n",
        "#학습\n",
        "reg.fit(X_train,Y_train)\n",
        "#예측값\n",
        "print('선형 회귀모델, 학습셋 테스트셋 사용용: ',Text2, '℃ 일때 밀집도 예측: ',reg.predict([[Text2]]))\n",
        "\n",
        "\n",
        "# 학습 데이터와 y 값을 산포도로 그린다. \n",
        "plt.scatter(X_test, Y_test, color='black')\n",
        "plt.xlabel('온도(℃)')\n",
        "plt.ylabel('밀집도')\n",
        "\n",
        "# 학습 데이터를 입력으로 하여 예측값을 계산한다.\n",
        "y_pred = reg.predict(X_test)\n",
        "\n",
        "#학습 데이터와 예측값으로 선그래프로 그린다. \n",
        "#계산된 기울기와 y 절편을 가지는 직선이 그려진다. \n",
        "plt.plot(X_test, y_pred, color='blue', linewidth=3)\t\t\n",
        "plt.show()\n"
      ],
      "metadata": {
        "colab": {
          "base_uri": "https://localhost:8080/",
          "height": 315
        },
        "id": "7WbJ7eAPDkrr",
        "outputId": "c82fa0f2-c0ac-4d20-b815-45b0a0c40b16"
      },
      "execution_count": null,
      "outputs": [
        {
          "output_type": "stream",
          "name": "stdout",
          "text": [
            "빨간집모기\n",
            "선형 회귀모델, 학습셋 테스트셋 사용용:  26 ℃ 일때 밀집도 예측:  [75.94620628]\n"
          ]
        },
        {
          "output_type": "display_data",
          "data": {
            "text/plain": [
              "<Figure size 432x288 with 1 Axes>"
            ],
            "image/png": "[encoded data removed]"
          },
          "metadata": {
            "needs_background": "light"
          }
        }
      ]
    },
    {
      "cell_type": "markdown",
      "source": [
        "딥러닝, 교차검증 X"
      ],
      "metadata": {
        "id": "5-yBAMJ1cuAW"
      }
    },
    {
      "cell_type": "code",
      "source": [
        "print('교차검증 X')\n",
        "#딥러닝모델\n",
        "model1 = Sequential()\n",
        "model1.add(Dense(2,input_dim=1,activation='relu'))\n",
        "model1.add(Dense(1,activation='relu'))\n",
        "model1.compile(loss='mean_squared_error',\n",
        "              optimizer='adam',\n",
        "              metrics=['accuracy'])\n",
        "\n",
        "model1.fit(X_train,Y_train, epochs=30, batch_size=1)\n"
      ],
      "metadata": {
        "colab": {
          "base_uri": "https://localhost:8080/"
        },
        "id": "kyjnqSWOqk4F",
        "outputId": "1ec837e6-2cb6-4ed3-e503-1c5e1baa5887"
      },
      "execution_count": null,
      "outputs": [
        {
          "output_type": "stream",
          "name": "stdout",
          "text": [
            "교차검증 X\n",
            "Epoch 1/30\n",
            "21/21 [==============================] - 0s 2ms/step - loss: 5573.9951 - accuracy: 0.0000e+00\n",
            "Epoch 2/30\n",
            "21/21 [==============================] - 0s 2ms/step - loss: 5520.1494 - accuracy: 0.0000e+00\n",
            "Epoch 3/30\n",
            "21/21 [==============================] - 0s 2ms/step - loss: 5467.5571 - accuracy: 0.0000e+00\n",
            "Epoch 4/30\n",
            "21/21 [==============================] - 0s 1ms/step - loss: 5414.4385 - accuracy: 0.0000e+00\n",
            "Epoch 5/30\n",
            "21/21 [==============================] - 0s 1ms/step - loss: 5357.4297 - accuracy: 0.0000e+00\n",
            "Epoch 6/30\n",
            "21/21 [==============================] - 0s 1ms/step - loss: 5300.5820 - accuracy: 0.0000e+00\n",
            "Epoch 7/30\n",
            "21/21 [==============================] - 0s 1ms/step - loss: 5245.1025 - accuracy: 0.0000e+00\n",
            "Epoch 8/30\n",
            "21/21 [==============================] - 0s 2ms/step - loss: 5192.7568 - accuracy: 0.0000e+00\n",
            "Epoch 9/30\n",
            "21/21 [==============================] - 0s 2ms/step - loss: 5129.9819 - accuracy: 0.0000e+00\n",
            "Epoch 10/30\n",
            "21/21 [==============================] - 0s 2ms/step - loss: 5076.3750 - accuracy: 0.0000e+00\n",
            "Epoch 11/30\n",
            "21/21 [==============================] - 0s 2ms/step - loss: 5017.6929 - accuracy: 0.0000e+00\n",
            "Epoch 12/30\n",
            "21/21 [==============================] - 0s 2ms/step - loss: 4962.0698 - accuracy: 0.0000e+00\n",
            "Epoch 13/30\n",
            "21/21 [==============================] - 0s 2ms/step - loss: 4900.9351 - accuracy: 0.0000e+00\n",
            "Epoch 14/30\n",
            "21/21 [==============================] - 0s 2ms/step - loss: 4846.9614 - accuracy: 0.0000e+00\n",
            "Epoch 15/30\n",
            "21/21 [==============================] - 0s 2ms/step - loss: 4788.2490 - accuracy: 0.0000e+00\n",
            "Epoch 16/30\n",
            "21/21 [==============================] - 0s 2ms/step - loss: 4731.0249 - accuracy: 0.0000e+00\n",
            "Epoch 17/30\n",
            "21/21 [==============================] - 0s 1ms/step - loss: 4677.7212 - accuracy: 0.0000e+00\n",
            "Epoch 18/30\n",
            "21/21 [==============================] - 0s 2ms/step - loss: 4619.0474 - accuracy: 0.0000e+00\n",
            "Epoch 19/30\n",
            "21/21 [==============================] - 0s 2ms/step - loss: 4561.4385 - accuracy: 0.0000e+00\n",
            "Epoch 20/30\n",
            "21/21 [==============================] - 0s 2ms/step - loss: 4507.4829 - accuracy: 0.0000e+00\n",
            "Epoch 21/30\n",
            "21/21 [==============================] - 0s 2ms/step - loss: 4450.6660 - accuracy: 0.0000e+00\n",
            "Epoch 22/30\n",
            "21/21 [==============================] - 0s 2ms/step - loss: 4398.3149 - accuracy: 0.0000e+00\n",
            "Epoch 23/30\n",
            "21/21 [==============================] - 0s 1ms/step - loss: 4343.0312 - accuracy: 0.0000e+00\n",
            "Epoch 24/30\n",
            "21/21 [==============================] - 0s 1ms/step - loss: 4291.7749 - accuracy: 0.0000e+00\n",
            "Epoch 25/30\n",
            "21/21 [==============================] - 0s 1ms/step - loss: 4239.9683 - accuracy: 0.0000e+00\n",
            "Epoch 26/30\n",
            "21/21 [==============================] - 0s 1ms/step - loss: 4187.6821 - accuracy: 0.0000e+00\n",
            "Epoch 27/30\n",
            "21/21 [==============================] - 0s 1ms/step - loss: 4132.7056 - accuracy: 0.0000e+00\n",
            "Epoch 28/30\n",
            "21/21 [==============================] - 0s 1ms/step - loss: 4086.0457 - accuracy: 0.0000e+00\n",
            "Epoch 29/30\n",
            "21/21 [==============================] - 0s 1ms/step - loss: 4036.3979 - accuracy: 0.0000e+00\n",
            "Epoch 30/30\n",
            "21/21 [==============================] - 0s 1ms/step - loss: 3989.6101 - accuracy: 0.0000e+00\n"
          ]
        },
        {
          "output_type": "execute_result",
          "data": {
            "text/plain": [
              "<keras.callbacks.History at 0x7f773cc03af0>"
            ]
          },
          "metadata": {},
          "execution_count": 14
        }
      ]
    },
    {
      "cell_type": "markdown",
      "source": [
        "딥러닝 사용, 교차검증 X, 학습셋 테스트셋으로 나눈것 그래프"
      ],
      "metadata": {
        "id": "tchWFhfBUh9k"
      }
    },
    {
      "cell_type": "code",
      "source": [
        "#예측값\n",
        "print('딥러닝 모델, 교차검증X, 학습셋 테스트셋 나눔눔: ',Text2, '℃ 일때 밀집도 예측: ', model1.predict([[Text2]]))\n",
        "\n",
        "y_pred = model1.predict(x)\n",
        "plt.scatter(x, y, color='black')\n",
        "# 학습 데이터와 예측값으로 선그래프로 그린다. \n",
        "# 계산된 기울기와 y 절편을 가지는 직선이 그려진다. \n",
        "plt.plot(x, y_pred, color='blue', linewidth=3)\n",
        "plt.xlabel('온도(℃)')\n",
        "plt.ylabel('밀집도')\t\t\n",
        "plt.show()\n"
      ],
      "metadata": {
        "colab": {
          "base_uri": "https://localhost:8080/",
          "height": 897
        },
        "id": "nZ2OIVsgUrRL",
        "outputId": "7fadbf6e-9c4a-4325-eee2-12b8f0518958"
      },
      "execution_count": null,
      "outputs": [
        {
          "output_type": "stream",
          "name": "stdout",
          "text": [
            "1/1 [==============================] - 0s 36ms/step\n",
            "딥러닝 모델, 교차검증X, 학습셋 테스트셋 나눔눔:  26 ℃ 일때 밀집도 예측:  [[35.623276]]\n",
            "1/1 [==============================] - 0s 22ms/step\n"
          ]
        },
        {
          "output_type": "display_data",
          "data": {
            "text/plain": [
              "<Figure size 432x288 with 1 Axes>"
            ],
            "image/png": "[encoded data removed]"
          },
          "metadata": {
            "needs_background": "light"
          }
        },
        {
          "output_type": "stream",
          "name": "stdout",
          "text": [
            "[[18.985723]\n",
            " [16.225576]\n",
            " [16.129738]\n",
            " [22.512577]\n",
            " [17.279799]\n",
            " [21.726704]\n",
            " [25.483568]\n",
            " [23.202614]\n",
            " [24.851034]\n",
            " [27.917866]\n",
            " [29.930473]\n",
            " [29.144596]\n",
            " [32.345604]\n",
            " [33.131474]\n",
            " [35.450768]\n",
            " [38.74761 ]\n",
            " [36.850006]\n",
            " [39.035122]\n",
            " [36.543324]\n",
            " [35.604107]\n",
            " [34.358208]\n",
            " [32.42227 ]\n",
            " [30.486336]\n",
            " [29.930473]\n",
            " [30.332993]\n",
            " [30.007143]\n",
            " [27.572845]\n",
            " [27.975368]\n",
            " [24.621021]\n",
            " [15.382198]\n",
            " [14.481316]]\n"
          ]
        }
      ]
    },
    {
      "cell_type": "markdown",
      "source": [
        "딥러닝, 교차검증 O"
      ],
      "metadata": {
        "id": "t0lneN9dPWdW"
      }
    },
    {
      "cell_type": "code",
      "source": [
        "from sklearn.model_selection import StratifiedKFold\n",
        "\n",
        "print('교차검증 O')\n",
        "skf = StratifiedKFold(n_splits=2, shuffle=True)\n",
        "accuracy=[]\n",
        "for train, test in skf.split(x,y):\n",
        "  model2 = Sequential()\n",
        "  model2.add(Dense(2,input_dim=1,activation='relu'))\n",
        "  model2.add(Dense(1,activation='relu'))\n",
        "  model2.compile(loss='mean_squared_error',\n",
        "                optimizer='adam',\n",
        "                metrics=['accuracy'])\n",
        "\n",
        "  model2.fit(x[train], y[train],  epochs=30, batch_size=1)\n",
        "  k_accuracy = \"%.4f\"%(model2.evaluate(x[test],y[test])[1])\n",
        "  accuracy.append(k_accuracy)\n",
        "\n",
        "\n",
        "print('정확도: ',accuracy)"
      ],
      "metadata": {
        "colab": {
          "base_uri": "https://localhost:8080/"
        },
        "id": "x4gosmn3PZQK",
        "outputId": "2f15db62-b315-4e3b-8f72-fecdff9ca567"
      },
      "execution_count": null,
      "outputs": [
        {
          "output_type": "stream",
          "name": "stdout",
          "text": [
            "교차검증 O\n",
            "Epoch 1/30\n"
          ]
        },
        {
          "output_type": "stream",
          "name": "stderr",
          "text": [
            "/usr/local/lib/python3.8/dist-packages/sklearn/model_selection/_split.py:676: UserWarning:\n",
            "\n",
            "The least populated class in y has only 1 members, which is less than n_splits=2.\n",
            "\n"
          ]
        },
        {
          "output_type": "stream",
          "name": "stdout",
          "text": [
            "15/15 [==============================] - 0s 2ms/step - loss: 7814.3335 - accuracy: 0.0000e+00\n",
            "Epoch 2/30\n",
            "15/15 [==============================] - 0s 2ms/step - loss: 7814.3335 - accuracy: 0.0000e+00\n",
            "Epoch 3/30\n",
            "15/15 [==============================] - 0s 2ms/step - loss: 7814.3335 - accuracy: 0.0000e+00\n",
            "Epoch 4/30\n",
            "15/15 [==============================] - 0s 1ms/step - loss: 7814.3335 - accuracy: 0.0000e+00\n",
            "Epoch 5/30\n",
            "15/15 [==============================] - 0s 2ms/step - loss: 7814.3335 - accuracy: 0.0000e+00\n",
            "Epoch 6/30\n",
            "15/15 [==============================] - 0s 1ms/step - loss: 7814.3335 - accuracy: 0.0000e+00\n",
            "Epoch 7/30\n",
            "15/15 [==============================] - 0s 2ms/step - loss: 7814.3335 - accuracy: 0.0000e+00\n",
            "Epoch 8/30\n",
            "15/15 [==============================] - 0s 2ms/step - loss: 7814.3335 - accuracy: 0.0000e+00\n",
            "Epoch 9/30\n",
            "15/15 [==============================] - 0s 2ms/step - loss: 7814.3335 - accuracy: 0.0000e+00\n",
            "Epoch 10/30\n",
            "15/15 [==============================] - 0s 2ms/step - loss: 7814.3335 - accuracy: 0.0000e+00\n",
            "Epoch 11/30\n",
            "15/15 [==============================] - 0s 1ms/step - loss: 7814.3335 - accuracy: 0.0000e+00\n",
            "Epoch 12/30\n",
            "15/15 [==============================] - 0s 2ms/step - loss: 7814.3335 - accuracy: 0.0000e+00\n",
            "Epoch 13/30\n",
            "15/15 [==============================] - 0s 2ms/step - loss: 7814.3335 - accuracy: 0.0000e+00\n",
            "Epoch 14/30\n",
            "15/15 [==============================] - 0s 2ms/step - loss: 7814.3335 - accuracy: 0.0000e+00\n",
            "Epoch 15/30\n",
            "15/15 [==============================] - 0s 2ms/step - loss: 7814.3335 - accuracy: 0.0000e+00\n",
            "Epoch 16/30\n",
            "15/15 [==============================] - 0s 1ms/step - loss: 7814.3335 - accuracy: 0.0000e+00\n",
            "Epoch 17/30\n",
            "15/15 [==============================] - 0s 2ms/step - loss: 7814.3335 - accuracy: 0.0000e+00\n",
            "Epoch 18/30\n",
            "15/15 [==============================] - 0s 1ms/step - loss: 7814.3335 - accuracy: 0.0000e+00\n",
            "Epoch 19/30\n",
            "15/15 [==============================] - 0s 1ms/step - loss: 7814.3335 - accuracy: 0.0000e+00\n",
            "Epoch 20/30\n",
            "15/15 [==============================] - 0s 2ms/step - loss: 7814.3335 - accuracy: 0.0000e+00\n",
            "Epoch 21/30\n",
            "15/15 [==============================] - 0s 2ms/step - loss: 7814.3335 - accuracy: 0.0000e+00\n",
            "Epoch 22/30\n",
            "15/15 [==============================] - 0s 2ms/step - loss: 7814.3335 - accuracy: 0.0000e+00\n",
            "Epoch 23/30\n",
            "15/15 [==============================] - 0s 2ms/step - loss: 7814.3335 - accuracy: 0.0000e+00\n",
            "Epoch 24/30\n",
            "15/15 [==============================] - 0s 2ms/step - loss: 7814.3335 - accuracy: 0.0000e+00\n",
            "Epoch 25/30\n",
            "15/15 [==============================] - 0s 2ms/step - loss: 7814.3335 - accuracy: 0.0000e+00\n",
            "Epoch 26/30\n",
            "15/15 [==============================] - 0s 2ms/step - loss: 7814.3335 - accuracy: 0.0000e+00\n",
            "Epoch 27/30\n",
            "15/15 [==============================] - 0s 2ms/step - loss: 7814.3335 - accuracy: 0.0000e+00\n",
            "Epoch 28/30\n",
            "15/15 [==============================] - 0s 2ms/step - loss: 7814.3335 - accuracy: 0.0000e+00\n",
            "Epoch 29/30\n",
            "15/15 [==============================] - 0s 2ms/step - loss: 7814.3335 - accuracy: 0.0000e+00\n",
            "Epoch 30/30\n",
            "15/15 [==============================] - 0s 2ms/step - loss: 7814.3335 - accuracy: 0.0000e+00\n",
            "1/1 [==============================] - 0s 121ms/step - loss: 6973.8750 - accuracy: 0.0625\n",
            "Epoch 1/30\n",
            "16/16 [==============================] - 0s 2ms/step - loss: 6973.8750 - accuracy: 0.0625\n",
            "Epoch 2/30\n",
            "16/16 [==============================] - 0s 1ms/step - loss: 6973.8750 - accuracy: 0.0625\n",
            "Epoch 3/30\n",
            "16/16 [==============================] - 0s 2ms/step - loss: 6973.8750 - accuracy: 0.0625\n",
            "Epoch 4/30\n",
            "16/16 [==============================] - 0s 2ms/step - loss: 6973.8750 - accuracy: 0.0625 \n",
            "Epoch 5/30\n",
            "16/16 [==============================] - 0s 1ms/step - loss: 6973.8750 - accuracy: 0.0625\n",
            "Epoch 6/30\n",
            "16/16 [==============================] - 0s 2ms/step - loss: 6973.8750 - accuracy: 0.0625 \n",
            "Epoch 7/30\n",
            "16/16 [==============================] - 0s 1ms/step - loss: 6973.8750 - accuracy: 0.0625\n",
            "Epoch 8/30\n",
            "16/16 [==============================] - 0s 3ms/step - loss: 6973.8750 - accuracy: 0.0625\n",
            "Epoch 9/30\n",
            "16/16 [==============================] - 0s 2ms/step - loss: 6973.8750 - accuracy: 0.0625 \n",
            "Epoch 10/30\n",
            "16/16 [==============================] - 0s 2ms/step - loss: 6973.8750 - accuracy: 0.0625\n",
            "Epoch 11/30\n",
            "16/16 [==============================] - 0s 2ms/step - loss: 6973.8750 - accuracy: 0.0625\n",
            "Epoch 12/30\n",
            "16/16 [==============================] - 0s 1ms/step - loss: 6973.8750 - accuracy: 0.0625\n",
            "Epoch 13/30\n",
            "16/16 [==============================] - 0s 1ms/step - loss: 6973.8750 - accuracy: 0.0625\n",
            "Epoch 14/30\n",
            "16/16 [==============================] - 0s 1ms/step - loss: 6973.8750 - accuracy: 0.0625 \n",
            "Epoch 15/30\n",
            "16/16 [==============================] - 0s 2ms/step - loss: 6973.8750 - accuracy: 0.0625 \n",
            "Epoch 16/30\n",
            "16/16 [==============================] - 0s 1ms/step - loss: 6973.8750 - accuracy: 0.0625\n",
            "Epoch 17/30\n",
            "16/16 [==============================] - 0s 2ms/step - loss: 6973.8750 - accuracy: 0.0625 \n",
            "Epoch 18/30\n",
            "16/16 [==============================] - 0s 2ms/step - loss: 6973.8750 - accuracy: 0.0625\n",
            "Epoch 19/30\n",
            "16/16 [==============================] - 0s 2ms/step - loss: 6973.8750 - accuracy: 0.0625\n",
            "Epoch 20/30\n",
            "16/16 [==============================] - 0s 1ms/step - loss: 6973.8750 - accuracy: 0.0625\n",
            "Epoch 21/30\n",
            "16/16 [==============================] - 0s 2ms/step - loss: 6973.8750 - accuracy: 0.0625 \n",
            "Epoch 22/30\n",
            "16/16 [==============================] - 0s 2ms/step - loss: 6973.8750 - accuracy: 0.0625\n",
            "Epoch 23/30\n",
            "16/16 [==============================] - 0s 2ms/step - loss: 6973.8750 - accuracy: 0.0625\n",
            "Epoch 24/30\n",
            "16/16 [==============================] - 0s 2ms/step - loss: 6973.8750 - accuracy: 0.0625\n",
            "Epoch 25/30\n",
            "16/16 [==============================] - 0s 2ms/step - loss: 6973.8750 - accuracy: 0.0625 \n",
            "Epoch 26/30\n",
            "16/16 [==============================] - 0s 2ms/step - loss: 6973.8750 - accuracy: 0.0625\n",
            "Epoch 27/30\n",
            "16/16 [==============================] - 0s 2ms/step - loss: 6973.8750 - accuracy: 0.0625\n",
            "Epoch 28/30\n",
            "16/16 [==============================] - 0s 2ms/step - loss: 6973.8750 - accuracy: 0.0625 \n",
            "Epoch 29/30\n",
            "16/16 [==============================] - 0s 2ms/step - loss: 6973.8750 - accuracy: 0.0625\n",
            "Epoch 30/30\n",
            "16/16 [==============================] - 0s 2ms/step - loss: 6973.8750 - accuracy: 0.0625\n",
            "1/1 [==============================] - 0s 110ms/step - loss: 7814.3335 - accuracy: 0.0000e+00\n",
            "정확도:  ['0.0625', '0.0000']\n"
          ]
        }
      ]
    },
    {
      "cell_type": "markdown",
      "source": [
        "딥러닝, 교차검증 후 예측값 표시"
      ],
      "metadata": {
        "id": "EpOaPcvKPf-M"
      }
    },
    {
      "cell_type": "code",
      "source": [
        "#예측값\n",
        "print('딥러닝모델, 교차검증 O, 테스트셋 학습셋 나눔: ',Text2, '℃ 일때 밀집도 예측: ',model2.predict([[Text2]]))\n",
        "y_pred = model2.predict(x)\n",
        "plt.scatter(x, y, color='black')\n",
        "# 학습 데이터와 예측값으로 선그래프로 그린다. \n",
        "# 계산된 기울기와 y 절편을 가지는 직선이 그려진다. \n",
        "plt.plot(x, y_pred, color='blue', linewidth=3)\t\t\n",
        "plt.xlabel('온도(℃)')\n",
        "plt.ylabel('밀집도')\n",
        "plt.show()\n"
      ],
      "metadata": {
        "colab": {
          "base_uri": "https://localhost:8080/",
          "height": 334
        },
        "id": "sslwscmsPkIP",
        "outputId": "147b0adb-9890-43fb-d2c0-ee9e4b8917ac"
      },
      "execution_count": null,
      "outputs": [
        {
          "output_type": "stream",
          "name": "stdout",
          "text": [
            "1/1 [==============================] - 0s 65ms/step\n",
            "딥러닝모델, 교차검증 O, 테스트셋 학습셋 나눔:  26 ℃ 일때 밀집도 예측:  [[0.]]\n",
            "1/1 [==============================] - 0s 48ms/step\n"
          ]
        },
        {
          "output_type": "display_data",
          "data": {
            "text/plain": [
              "<Figure size 432x288 with 1 Axes>"
            ],
            "image/png": "[encoded data removed]"
          },
          "metadata": {
            "needs_background": "light"
          }
        }
      ]
    }
  ]
}